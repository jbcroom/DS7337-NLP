{
 "cells": [
  {
   "cell_type": "markdown",
   "metadata": {},
   "source": [
    "## DS 7337 - Natural Language Processing\n",
    "\n",
    "### Author: Brandon Croom\n",
    "\n",
    "### Homework: 7"
   ]
  },
  {
   "cell_type": "markdown",
   "metadata": {},
   "source": [
    "### Assignment Criteria:\n",
    "\n",
    "Cluster the reviews that you collected in homework 5, by doing the following:\n",
    "\n",
    "1.\tIn Python, select any one of the clustering methods covered in this course. Run it over the collection of reviews, and show at least two different ways of clustering the reviews, e.g., changing k in k-Means clustering or changing where you “cut” in Agnes or Diana.  \n",
    "\n",
    "2.\tTry to write a short phrase to characterize (give a natural interpretation of) what each cluster is generally centered on semantically. Is this hard to do in some cases? If so, make note of that fact. \n",
    "\n",
    "3.\tExplain which of the two clustering results from question 1 is preferable (if one of them is), and why. \n",
    "\n",
    "NOTE: Code for scraping IMDB website modified from https://shravan-kuchkula.github.io/scrape_imdb_movie_reviews/#step-4-for-each-of-the-movie-reviews-link-get-a-positive-user-review-link-and-a-negative-movie-review-link\n"
   ]
  },
  {
   "cell_type": "code",
   "execution_count": 10,
   "metadata": {},
   "outputs": [],
   "source": [
    "# import nltk and other items\n",
    "import nltk\n",
    "from nltk.tokenize import word_tokenize \n",
    "import numpy as np\n",
    "import requests\n",
    "from sklearn.feature_extraction.text import TfidfVectorizer\n",
    "from sklearn.cluster import KMeans\n",
    "from sklearn.metrics import adjusted_rand_score\n",
    "from bs4 import BeautifulSoup\n",
    "import re\n",
    "import pandas as pd\n",
    "import itertools\n",
    "from nltk.chunk import *\n",
    "from nltk.chunk.util import *\n",
    "from nltk.chunk.regexp import *\n",
    "\n",
    "pd.options.display.max_colwidth=500\n",
    "\n",
    "#define some static values, specifically our source of information IMBD, our output file and the url for our IMDB search\n",
    "base_url = \"https://www.imdb.com\"\n",
    "outfile = \"DS_7337_NLP_HW5_CROOM.csv\"\n",
    "\n",
    "# API call to select:\n",
    "#  -feature films\n",
    "#  -which are rated atleast 4.0\n",
    "#  -having atleast 50,000 votes\n",
    "#  -in the Thriller genre\n",
    "#  -sorted by user rating\n",
    "#  -limit to 250 movies\n",
    "url = '''https://www.imdb.com/search/title/?title_type=feature&user_rating=4.0,10.0\n",
    "&num_votes=50000,&genres=thriller&view=simple&sort=user_rating,desc&count=250'''"
   ]
  },
  {
   "cell_type": "code",
   "execution_count": 15,
   "metadata": {},
   "outputs": [],
   "source": [
    "# define helper functions for the work\n",
    "\n",
    "# Utility function which takes a url and returns a Soup object.\n",
    "def urlToSoup(url): \n",
    "    response = requests.get(url)\n",
    "    soup = BeautifulSoup(response.text, 'html.parser')\n",
    "    \n",
    "    return soup\n",
    "\n",
    "# Utility function to filter out movie tag issues\n",
    "def filterMovieTags(movieSoup):\n",
    "    # find all a-tags with class:None\n",
    "    movie_tags = movieSoup.find_all('a', attrs={'class': None})\n",
    "\n",
    "    # filter the a-tags to get just the titles\n",
    "    movie_tags = [tag.attrs['href'] for tag in movie_tags \n",
    "                  if tag.attrs['href'].startswith('/title') & tag.attrs['href'].endswith('/')]\n",
    "\n",
    "    # remove duplicate links\n",
    "    movie_tags = list(dict.fromkeys(movie_tags))\n",
    "\n",
    "    return movie_tags\n",
    "\n",
    "# function to build the list of movie review links\n",
    "def buildReviewLinks(movie_tags):\n",
    "    movie_links = [base_url + tag + 'reviews' for tag in movie_tags]\n",
    "    return movie_links\n",
    "\n",
    "# Function that returns the index of negative and positive review.\n",
    "def minMax(a):   \n",
    "    # get the index of least rated user review\n",
    "    minpos = a.index(min(a))\n",
    "    \n",
    "    # get the index of highest rated user review\n",
    "    maxpos = a.index(max(a))\n",
    "    \n",
    "    return minpos, maxpos\n",
    "\n",
    "# Function returns a negative and positive review for each movie.\n",
    "def getMovieReviews(soup):    \n",
    "    # get a list of user ratings\n",
    "    user_review_ratings = [tag.previous_element for tag in \n",
    "                           soup.find_all('span', attrs={'class': 'point-scale'})]\n",
    "    \n",
    "    # find the index of negative and positive review\n",
    "    n_index, p_index = minMax(list(map(int, user_review_ratings)))\n",
    "    \n",
    "    # get the review tags\n",
    "    user_review_list = soup.find_all('a', attrs={'class':'title'})\n",
    "    \n",
    "    # get the negative and positive review tags\n",
    "    n_review_tag = user_review_list[n_index]\n",
    "    p_review_tag = user_review_list[p_index]\n",
    "    \n",
    "    # return the negative and positive review link\n",
    "    n_review_link = base_url + n_review_tag['href']\n",
    "    p_review_link = base_url + p_review_tag['href']\n",
    "    \n",
    "    return n_review_link, p_review_link\n",
    "\n",
    "# Returns the user review text given the review url.\n",
    "def getMovieReviewText(review_url):   \n",
    "    # get the review_url's soup\n",
    "    soup = urlToSoup(review_url)\n",
    "    \n",
    "    # find div tags with class text show-more__control\n",
    "    tag = soup.find('div', attrs={'class': 'text show-more__control'})\n",
    "    \n",
    "    return tag.getText()\n",
    "\n",
    "# Returns the movie title from the review url.\n",
    "def getMovieTitle(review_url):\n",
    "    # get the review_url's soup\n",
    "    soup = urlToSoup(review_url)\n",
    "    \n",
    "    # find h1 tag\n",
    "    tag = soup.find('h1')\n",
    "    \n",
    "    return list(tag.children)[1].getText()\n",
    "\n",
    "# Returns the NP chunked review results\n",
    "def processReviewText(document):\n",
    "    sentences = nltk.sent_tokenize(document)\n",
    "    sentences = [nltk.word_tokenize(sent) for sent in sentences]\n",
    "    sentences = [nltk.pos_tag(sent) for sent in sentences]\n",
    "    sentences = [getMovieReviewTags(sent) for sent in sentences]\n",
    "    return sentences\n",
    "\n",
    "# Returns the tagged version of the review\n",
    "def getMovieReviewTags(reviewSentence):\t\n",
    "    nps = []\n",
    "\n",
    "    # NOTE: For purposes of the exercise I'm treating\n",
    "    # the grammar variable as a global so that the regular\n",
    "    # expression patterns can be change it as needed\n",
    "    cp = nltk.RegexpParser(grammar)\n",
    "    tree = cp.parse(reviewSentence)\n",
    "\n",
    "    # loop through the trees produced and pull out only the \n",
    "    # NP subtrees\n",
    "    for subtree in tree.subtrees():\n",
    "        if subtree.label() == 'NP':\n",
    "            t = subtree\n",
    "            t = ' '.join(word for word, tag in t.leaves())\n",
    "            nps.append(t)\n",
    "\n",
    "    return nps\n",
    "\n",
    "# Returns the k-means clusters for the documents\n",
    "def getKMeans(reviews, kVal = 5):\n",
    "    vectorizer = TfidfVectorizer(stop_words='english')\n",
    "    X = vectorizer.fit_transform(reviews)\n",
    "\n",
    "    model = KMeans(n_clusters=kVal, init='k-means++', max_iter=100, n_init=1)\n",
    "    model.fit(X)\n",
    "\n",
    "    print(\"Top terms per cluster:\")\n",
    "    order_centroids = model.cluster_centers_.argsort()[:, ::-1]\n",
    "    terms = vectorizer.get_feature_names()\n",
    "    \n",
    "    for i in range(kVal):\n",
    "        print(\"Cluster %d:\" % i),\n",
    "        for ind in order_centroids[i, :10]:\n",
    "         print(' %s' % terms[ind]),\n",
    "        print\n",
    "\n",
    "    print(\"\\n\")"
   ]
  },
  {
   "cell_type": "markdown",
   "metadata": {},
   "source": [
    "First lets connect to IMDB. We're going to pull films that are rated highly rated in the thriller genre. Pull back 250 movies"
   ]
  },
  {
   "cell_type": "code",
   "execution_count": 5,
   "metadata": {
    "tags": []
   },
   "outputs": [
    {
     "output_type": "stream",
     "name": "stdout",
     "text": "There are a total of 250 movie user reviews\nDisplaying 10 user reviews links\n"
    },
    {
     "output_type": "execute_result",
     "data": {
      "text/plain": "['/title/tt0468569/',\n '/title/tt1375666/',\n '/title/tt6751668/',\n '/title/tt0816692/',\n '/title/tt0114369/',\n '/title/tt0102926/',\n '/title/tt7286456/',\n '/title/tt0482571/',\n '/title/tt0407887/',\n '/title/tt0114814/']"
     },
     "metadata": {},
     "execution_count": 5
    }
   ],
   "source": [
    "# API call to select:\n",
    "## feature films\n",
    "## which are rated atleast 4.0\n",
    "## having atleast 50,000 votes\n",
    "## in the Thriller genre\n",
    "## sorted by user rating\n",
    "## limit to 250 movies\n",
    "url = '''https://www.imdb.com/search/title/?title_type=feature&user_rating=4.0,10.0\n",
    "&num_votes=50000,&genres=thriller&view=simple&sort=user_rating,desc&count=250'''\n",
    "\n",
    "# transform the movie url list to a BeautifulSoup object\n",
    "movies_soup = urlToSoup(url)\n",
    "\n",
    "# in looking at the returned list there's some filtering that needs to be done\n",
    "# filter off tags with none and just cleanup the list in general\n",
    "movie_tags = filterMovieTags(movies_soup)\n",
    "\n",
    "# Print out the number of reviews we have and show the first 10 items\n",
    "print(\"There are a total of \" + str(len(movie_tags)) + \" movie user reviews\")\n",
    "print(\"Displaying 10 user reviews links\")\n",
    "movie_tags[:10]"
   ]
  },
  {
   "cell_type": "markdown",
   "metadata": {},
   "source": [
    "Now let's build out the list of specific movie review URLs to be able to parse the reviews"
   ]
  },
  {
   "cell_type": "code",
   "execution_count": 6,
   "metadata": {
    "tags": []
   },
   "outputs": [
    {
     "output_type": "stream",
     "name": "stdout",
     "text": "There are a total of 250 movie user reviews\nDisplaying 10 user reviews links\n"
    },
    {
     "output_type": "execute_result",
     "data": {
      "text/plain": "['https://www.imdb.com/title/tt0468569/reviews',\n 'https://www.imdb.com/title/tt1375666/reviews',\n 'https://www.imdb.com/title/tt6751668/reviews',\n 'https://www.imdb.com/title/tt0816692/reviews',\n 'https://www.imdb.com/title/tt0114369/reviews',\n 'https://www.imdb.com/title/tt0102926/reviews',\n 'https://www.imdb.com/title/tt7286456/reviews',\n 'https://www.imdb.com/title/tt0482571/reviews',\n 'https://www.imdb.com/title/tt0407887/reviews',\n 'https://www.imdb.com/title/tt0114814/reviews']"
     },
     "metadata": {},
     "execution_count": 6
    }
   ],
   "source": [
    "# build out the list of reviews\n",
    "review_links = buildReviewLinks(movie_tags)\n",
    "\n",
    "print(\"There are a total of \" + str(len(review_links)) + \" movie user reviews\")\n",
    "print(\"Displaying 10 user reviews links\")\n",
    "review_links[:10]"
   ]
  },
  {
   "cell_type": "markdown",
   "metadata": {},
   "source": [
    "Now go through each of the reviews and filter by positive and negative reviews. This will give us two individual movie reviews for each movie"
   ]
  },
  {
   "cell_type": "code",
   "execution_count": 7,
   "metadata": {
    "tags": []
   },
   "outputs": [
    {
     "output_type": "stream",
     "name": "stdout",
     "text": "There are a total of 500 individual movie reviews\nDisplaying 10 reviews\n"
    },
    {
     "output_type": "execute_result",
     "data": {
      "text/plain": "['https://www.imdb.com/review/rw2599771/',\n 'https://www.imdb.com/review/rw5478826/',\n 'https://www.imdb.com/review/rw2286063/',\n 'https://www.imdb.com/review/rw4692192/',\n 'https://www.imdb.com/review/rw5493983/',\n 'https://www.imdb.com/review/rw5195256/',\n 'https://www.imdb.com/review/rw3119344/',\n 'https://www.imdb.com/review/rw5145037/',\n 'https://www.imdb.com/review/rw1136748/',\n 'https://www.imdb.com/review/rw0370669/']"
     },
     "metadata": {},
     "execution_count": 7
    }
   ],
   "source": [
    "\n",
    "# get a list of soup objects\n",
    "movie_soups = [urlToSoup(link) for link in review_links]\n",
    "\n",
    "# get all movie review links\n",
    "movie_review_list = [getMovieReviews(movie_soup) for movie_soup in movie_soups]\n",
    "\n",
    "movie_review_list = list(itertools.chain(*movie_review_list))\n",
    "\n",
    "# For a check make a listing of the review URLs\n",
    "print(\"There are a total of \" + str(len(movie_review_list)) + \" individual movie reviews\")\n",
    "print(\"Displaying 10 reviews\")\n",
    "movie_review_list[:10]"
   ]
  },
  {
   "cell_type": "markdown",
   "metadata": {},
   "source": [
    "To make things a bit easier to read build a pandas data frame. This data frame will house the movie title, the link the the user review, the user review and the sentiment of the review."
   ]
  },
  {
   "cell_type": "code",
   "execution_count": 9,
   "metadata": {},
   "outputs": [
    {
     "output_type": "execute_result",
     "data": {
      "text/plain": "             movie                   user_review_permalink  \\\n0  The Dark Knight  https://www.imdb.com/review/rw2599771/   \n1  The Dark Knight  https://www.imdb.com/review/rw5478826/   \n2        Inception  https://www.imdb.com/review/rw2286063/   \n3        Inception  https://www.imdb.com/review/rw4692192/   \n4         Parasite  https://www.imdb.com/review/rw5493983/   \n\n                                                                                                                                                                                                                                                                                                                                                                                                                                                                                                           user_review  \\\n0  Let's open this review with the fact that Batman is THE BEST superhero ever, with no other even coming close to his levels. So when a sequel is made for an unforgettable movie like \"Batman Begins\" expectations are EXTREMELY high. I think that if you could describe this movie in a few words it would be \"152 minutes of pure awesomeness.\" Christopher Nolan probably created the best ever comic book adaptation of a movie. The movie itself has been adapted in a much more realistic fashion than the...   \n1                                                                                                                                                                                                                  Confidently directed, dark, brooding, and packed with impressive action sequences and a complex story, The Dark Knight includes a career-defining turn from Heath Ledger as well as other Oscar worthy performances, TDK remains not only the best Batman movie, but comic book movie ever created.   \n2  I have to say to make such an impressive trailer and such an uninteresting film, takes some doing.Here you have most of the elements that would make a very good film. You have great special effects, a sci-fi conundrum, beautiful visuals and good sound. Yet the most important part of the film is missing. There is no plot, character or soul to this film. It's like having a beautiful building on the outside with no paint or decoration on the inside.It's an empty shell of a film. There is no ten...   \n3  My 3rd time watching this movie! Yet, it still stunned my mind, kept me enjoyed its every moment and left me with many thoughts afterward.\\nFor someone like me, who've rarely slept without dream, it's so exciting watching how Christopher Nolan had illustrated every single characteristic of dream on the big screen. As it's been done so sophisticatedly, I do believe the rumour that Nolan had spent 10 years to finish the script of Inception. In my opinion, it's been so far the greatest achievem...   \n4                                                                                                                                               I'm sorry but I must be living on another planet - I can't understand why this film won an oscar and why some are rating it a 10.\\nI felt a little bored in parts and I felt uncomfortable. Reading some other reviews after the film, maybe there were some aspects I hadn't analysed and worked out intellectually. But then still I felt it was totally over hyped.   \n\n  sentiment  \n0  negative  \n1  positive  \n2  negative  \n3  positive  \n4  negative  ",
      "text/html": "<div>\n<style scoped>\n    .dataframe tbody tr th:only-of-type {\n        vertical-align: middle;\n    }\n\n    .dataframe tbody tr th {\n        vertical-align: top;\n    }\n\n    .dataframe thead th {\n        text-align: right;\n    }\n</style>\n<table border=\"1\" class=\"dataframe\">\n  <thead>\n    <tr style=\"text-align: right;\">\n      <th></th>\n      <th>movie</th>\n      <th>user_review_permalink</th>\n      <th>user_review</th>\n      <th>sentiment</th>\n    </tr>\n  </thead>\n  <tbody>\n    <tr>\n      <th>0</th>\n      <td>The Dark Knight</td>\n      <td>https://www.imdb.com/review/rw2599771/</td>\n      <td>Let's open this review with the fact that Batman is THE BEST superhero ever, with no other even coming close to his levels. So when a sequel is made for an unforgettable movie like \"Batman Begins\" expectations are EXTREMELY high. I think that if you could describe this movie in a few words it would be \"152 minutes of pure awesomeness.\" Christopher Nolan probably created the best ever comic book adaptation of a movie. The movie itself has been adapted in a much more realistic fashion than the...</td>\n      <td>negative</td>\n    </tr>\n    <tr>\n      <th>1</th>\n      <td>The Dark Knight</td>\n      <td>https://www.imdb.com/review/rw5478826/</td>\n      <td>Confidently directed, dark, brooding, and packed with impressive action sequences and a complex story, The Dark Knight includes a career-defining turn from Heath Ledger as well as other Oscar worthy performances, TDK remains not only the best Batman movie, but comic book movie ever created.</td>\n      <td>positive</td>\n    </tr>\n    <tr>\n      <th>2</th>\n      <td>Inception</td>\n      <td>https://www.imdb.com/review/rw2286063/</td>\n      <td>I have to say to make such an impressive trailer and such an uninteresting film, takes some doing.Here you have most of the elements that would make a very good film. You have great special effects, a sci-fi conundrum, beautiful visuals and good sound. Yet the most important part of the film is missing. There is no plot, character or soul to this film. It's like having a beautiful building on the outside with no paint or decoration on the inside.It's an empty shell of a film. There is no ten...</td>\n      <td>negative</td>\n    </tr>\n    <tr>\n      <th>3</th>\n      <td>Inception</td>\n      <td>https://www.imdb.com/review/rw4692192/</td>\n      <td>My 3rd time watching this movie! Yet, it still stunned my mind, kept me enjoyed its every moment and left me with many thoughts afterward.\\nFor someone like me, who've rarely slept without dream, it's so exciting watching how Christopher Nolan had illustrated every single characteristic of dream on the big screen. As it's been done so sophisticatedly, I do believe the rumour that Nolan had spent 10 years to finish the script of Inception. In my opinion, it's been so far the greatest achievem...</td>\n      <td>positive</td>\n    </tr>\n    <tr>\n      <th>4</th>\n      <td>Parasite</td>\n      <td>https://www.imdb.com/review/rw5493983/</td>\n      <td>I'm sorry but I must be living on another planet - I can't understand why this film won an oscar and why some are rating it a 10.\\nI felt a little bored in parts and I felt uncomfortable. Reading some other reviews after the film, maybe there were some aspects I hadn't analysed and worked out intellectually. But then still I felt it was totally over hyped.</td>\n      <td>negative</td>\n    </tr>\n  </tbody>\n</table>\n</div>"
     },
     "metadata": {},
     "execution_count": 9
    }
   ],
   "source": [
    "# get review text from the review link\n",
    "review_texts = [getMovieReviewText(url) for url in movie_review_list]\n",
    "\n",
    "# get movie name from the review link\n",
    "movie_titles = [getMovieTitle(url) for url in movie_review_list]\n",
    "\n",
    "# label each review with negative or positive\n",
    "review_sentiment = np.array(['negative', 'positive'] * (len(movie_review_list)//2))\n",
    "\n",
    "# construct a dataframe\n",
    "df = pd.DataFrame({'movie': movie_titles, 'user_review_permalink': movie_review_list,\n",
    "             'user_review': review_texts, 'sentiment': review_sentiment})\n",
    "\n",
    "# show the dataframe head to show what we return back\n",
    "df.head()"
   ]
  },
  {
   "cell_type": "markdown",
   "metadata": {},
   "source": [
    "1.\tIn Python, select any one of the clustering methods covered in this course. Run it over the collection of reviews, and show at least two different ways of clustering the reviews, e.g., changing k in k-Means clustering or changing where you “cut” in Agnes or Diana. \n"
   ]
  },
  {
   "cell_type": "markdown",
   "metadata": {},
   "source": [
    "Run the K-Means calculation with 5 clusters, the default setup by the getKMeans function"
   ]
  },
  {
   "cell_type": "code",
   "execution_count": 16,
   "metadata": {
    "tags": []
   },
   "outputs": [
    {
     "output_type": "stream",
     "name": "stdout",
     "text": "Top terms per cluster:\nCluster 0:\n film\n horror\n like\n movie\n black\n coraline\n story\n character\n white\n new\nCluster 1:\n film\n movie\n time\n like\n just\n people\n character\n life\n man\n world\nCluster 2:\n film\n lee\n movie\n films\n action\n great\n bourne\n scenes\n cinema\n 10\nCluster 3:\n movie\n action\n film\n story\n good\n like\n just\n plot\n great\n best\nCluster 4:\n film\n movie\n just\n best\n story\n way\n like\n great\n seen\n don\n\n\n"
    }
   ],
   "source": [
    "# Execute the K-Means function on the reviews. We'll initially use the default number of clusters which is 5\n",
    "getKMeans(review_texts)"
   ]
  },
  {
   "cell_type": "code",
   "execution_count": 17,
   "metadata": {
    "tags": []
   },
   "outputs": [
    {
     "output_type": "stream",
     "name": "stdout",
     "text": "Top terms per cluster:\nCluster 0:\n film\n action\n niro\n heat\n good\n character\n movie\n really\n pacino\n just\nCluster 1:\n haven\n land\n korea\n excitement\n misery\n rape\n paul\n man\n pig\n stories\nCluster 2:\n movie\n story\n don\n blue\n film\n people\n way\n like\n lynch\n movies\nCluster 3:\n movie\n world\n just\n things\n make\n story\n know\n people\n like\n good\nCluster 4:\n movie\n good\n just\n like\n great\n movies\n story\n film\n really\n scene\nCluster 5:\n film\n hollywood\n seen\n action\n version\n sky\n akira\n 10\n lisbeth\n spanish\nCluster 6:\n best\n movie\n film\n city\n great\n movies\n action\n perfect\n tale\n sequel\nCluster 7:\n film\n films\n time\n best\n like\n just\n character\n story\n movie\n action\nCluster 8:\n horror\n film\n anderson\n bale\n machinist\n christian\n amin\n romero\n whitaker\n brad\nCluster 9:\n movie\n imdb\n com\n got\n list\n http\n seen\n www\n action\n ve\n\n\n"
    }
   ],
   "source": [
    "# Execute the K-Means function on the reviews, use a number of clusters equal to 10\n",
    "getKMeans(review_texts,10)"
   ]
  },
  {
   "cell_type": "code",
   "execution_count": 19,
   "metadata": {
    "tags": []
   },
   "outputs": [
    {
     "output_type": "stream",
     "name": "stdout",
     "text": "Top terms per cluster:\nCluster 0:\n lola\n run\n experiment\n manni\n das\n mobster\n concurrently\n uneasiness\n frentic\n disservice\nCluster 1:\n scorsese\n departed\n best\n martin\n exhilarating\n humor\n borg\n franchise\n valeria\n incredibly\nCluster 2:\n movie\n action\n amazing\n best\n film\n scenes\n 10\n movies\n fans\n seen\nCluster 3:\n bourne\n jason\n greengrass\n damon\n action\n movie\n spy\n identity\n paul\n ultimatum\nCluster 4:\n movie\n good\n film\n story\n like\n just\n really\n movies\n bad\n great\nCluster 5:\n movie\n read\n book\n books\n thought\n don\n enjoys\n reviews\n writing\n say\nCluster 6:\n movie\n just\n like\n way\n film\n don\n story\n movies\n people\n world\nCluster 7:\n lynch\n blue\n film\n fred\n velvet\n caligari\n interpretation\n story\n selick\n animation\nCluster 8:\n film\n story\n just\n really\n rape\n great\n night\n acting\n like\n makes\nCluster 9:\n murder\n film\n plan\n hitch\n bruno\n hitchcock\n american\n korea\n uses\n husband\nCluster 10:\n movie\n elizabeth\n cameron\n minutes\n abyss\n alma\n felt\n american\n film\n ending\nCluster 11:\n horror\n film\n dead\n evil\n sequel\n die\n action\n hard\n movie\n time\nCluster 12:\n people\n movie\n lesson\n slevin\n turkish\n film\n time\n ussexy\n teenagerdefinite\n actionmoralitya\nCluster 13:\n akash\n alcatraz\n akira\n raid\n time\n dreyman\n stasi\n shark\n character\n escape\nCluster 14:\n film\n films\n time\n action\n character\n best\n story\n characters\n like\n plot\nCluster 15:\n film\n just\n story\n girl\n gone\n thriller\n like\n movie\n events\n life\nCluster 16:\n bond\n james\n grant\n craig\n film\n hepburn\n cary\n hitchcock\n goldfinger\n best\nCluster 17:\n com\n imdb\n list\n movie\n http\n www\n ve\n seen\n got\n watch\nCluster 18:\n submarine\n technology\n movie\n military\n connery\n sean\n tiring\n did\n turns\n enjoyable\nCluster 19:\n cruise\n max\n vincent\n serial\n mann\n foxx\n warrior\n film\n killer\n insider\n\n\n"
    }
   ],
   "source": [
    "# Execute the K-Means function on the reviews, use a number of clusters equal to 20\n",
    "getKMeans(review_texts,20)"
   ]
  },
  {
   "cell_type": "markdown",
   "metadata": {},
   "source": [
    "2. Try to write a short phrase to characterize (give a natural interpretation of) what each cluster is generally centered on semantically. Is this hard to do in some cases? If so, make note of that fact. "
   ]
  },
  {
   "cell_type": "markdown",
   "metadata": {},
   "source": [
    "In looking at the clusters defined above we see the following:\n",
    "\n",
    "With K=5, there doesn't seem to be any real definition of what the centroid is centered on. All of the clusters have the words film and movie in them which could be center points. The clusters themselves don't make a whole lot of sense\n",
    "\n",
    "With K=10, we do start to see that the clusters start to cluster around commonalities in specific movies. For example, Cluster 0 seems to indicate word attributes based on the movie \"Heat\" starring Al Pacino and Robert De Niro. Similar results are seen in Cluster 8, which seems to be focused on the movie \"The Machinist\" starring Christian Bale. On the flip side certain clusters don't look to good. Cluster 9 is one of these. It looks just like a random sampling of words.\n",
    "\n",
    "With K=20, we start to see a continuation of the clusters around commonalities to specific movies. We also start to see similar movie items start to be clustered together. For example, Cluster 18 seems to focus in on the movie \"The Hunt for Red October\". We also do see some \"odd\" clusters that don't really provide key information. For example Cluster 14 is just a bunch of random words that define a movie in general."
   ]
  },
  {
   "cell_type": "markdown",
   "metadata": {},
   "source": [
    "3.\tExplain which of the two clustering results from question 1 is preferable (if one of them is), and why."
   ]
  },
  {
   "cell_type": "markdown",
   "metadata": {},
   "source": [
    "From the clustering runs that were performed (K=5, K=10, K-20), the higher K is the most preferred. As described in question 2, the values that were higher than 5 started to get closer to grouping the reivews by specific topics or even got close to the specific movie. This would provide a much richer analysis and be much easier to explain than the items in clusters that are 5 or less. With the k value at 5 we saw that the clusters didn't really have much meaning. "
   ]
  }
 ],
 "metadata": {
  "language_info": {
   "codemirror_mode": {
    "name": "ipython",
    "version": 3
   },
   "file_extension": ".py",
   "mimetype": "text/x-python",
   "name": "python",
   "nbconvert_exporter": "python",
   "pygments_lexer": "ipython3",
   "version": "3.8.3-candidate"
  },
  "orig_nbformat": 2,
  "kernelspec": {
   "name": "python38364bit36305f9ad6c54384bcdc334bae9910c8",
   "display_name": "Python 3.8.3 64-bit"
  }
 },
 "nbformat": 4,
 "nbformat_minor": 2
}