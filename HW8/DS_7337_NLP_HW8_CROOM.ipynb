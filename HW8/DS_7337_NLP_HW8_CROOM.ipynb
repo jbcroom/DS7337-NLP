{
 "cells": [
  {
   "cell_type": "markdown",
   "metadata": {},
   "source": [
    "## DS 7337 - Natural Language Processing\n",
    "\n",
    "### Author: Brandon Croom\n",
    "\n",
    "### Homework: 8"
   ]
  },
  {
   "cell_type": "markdown",
   "metadata": {},
   "source": [
    "### Assignment Criteria:\n",
    "\n",
    "Perform a vocabulary-based sentiment analysis of the movie reviews you used in homework 5 and homework 7, by doing the following:\n",
    "\n",
    "1.\tIn Python, load one of the sentiment vocabularies referenced in the textbook, and run the sentiment analyzer as explained in the corresponding reference. Add words to the sentiment vocabulary, if you think you need to, to better fit your particular text collection.\n",
    "\n",
    "2.\tFor each of the clusters you created in homework 7, compute the average, median, high, and low sentiment scores for each cluster. Explain whether you think this reveals anything interesting about the clusters.\n",
    "\n",
    "3.\tFor extra credit, analyze sentiment of chunks as follows:\n",
    "\n",
    " - Take the chunks from homework 5, and in Python, run each chunk individually through your sentiment analyzer that you used in question 1. If the chunk registers a nonneutral sentiment, save it in a tabular format (the chunk, the sentiment score).\n",
    "\n",
    " - Now sort the table twice, once to show the highest negative-sentiment-scoring chunks at the top and again to show the highest positive-sentiment-scoring chunks at the top. Examine the upper portions of both sorted lists, to identify any trends, and explain what you see. \n",
    "\n",
    "Submit all of your inputs and outputs and your code for this assignment, along with a brief written explanation of your findings. \n",
    "\n",
    "\n",
    "NOTE: Code for scraping IMDB website modified from https://shravan-kuchkula.github.io/scrape_imdb_movie_reviews/#step-4-for-each-of-the-movie-reviews-link-get-a-positive-user-review-link-and-a-negative-movie-review-link\n"
   ]
  },
  {
   "cell_type": "code",
   "execution_count": 1,
   "metadata": {},
   "outputs": [],
   "source": [
    "# import nltk and other items\n",
    "import nltk\n",
    "from nltk.tokenize import word_tokenize \n",
    "import numpy as np\n",
    "import requests\n",
    "from sklearn.feature_extraction.text import TfidfVectorizer\n",
    "from sklearn.cluster import KMeans\n",
    "from sklearn.metrics import adjusted_rand_score\n",
    "from bs4 import BeautifulSoup\n",
    "import re\n",
    "import pandas as pd\n",
    "import itertools\n",
    "from nltk.chunk import *\n",
    "from nltk.chunk.util import *\n",
    "from nltk.chunk.regexp import *\n",
    "\n",
    "pd.options.display.max_colwidth=500\n",
    "\n",
    "#define some static values, specifically our source of information IMBD, our output file and the url for our IMDB search\n",
    "base_url = \"https://www.imdb.com\"\n",
    "outfile = \"DS_7337_NLP_HW5_CROOM.csv\"\n",
    "\n",
    "# API call to select:\n",
    "#  -feature films\n",
    "#  -which are rated atleast 4.0\n",
    "#  -having atleast 50,000 votes\n",
    "#  -in the Thriller genre\n",
    "#  -sorted by user rating\n",
    "#  -limit to 250 movies\n",
    "url = '''https://www.imdb.com/search/title/?title_type=feature&user_rating=4.0,10.0\n",
    "&num_votes=50000,&genres=thriller&view=simple&sort=user_rating,desc&count=250'''"
   ]
  },
  {
   "cell_type": "code",
   "execution_count": 2,
   "metadata": {},
   "outputs": [],
   "source": [
    "# define helper functions for the work\n",
    "\n",
    "# Utility function which takes a url and returns a Soup object.\n",
    "def urlToSoup(url): \n",
    "    response = requests.get(url)\n",
    "    soup = BeautifulSoup(response.text, 'html.parser')\n",
    "    \n",
    "    return soup\n",
    "\n",
    "# Utility function to filter out movie tag issues\n",
    "def filterMovieTags(movieSoup):\n",
    "    # find all a-tags with class:None\n",
    "    movie_tags = movieSoup.find_all('a', attrs={'class': None})\n",
    "\n",
    "    # filter the a-tags to get just the titles\n",
    "    movie_tags = [tag.attrs['href'] for tag in movie_tags \n",
    "                  if tag.attrs['href'].startswith('/title') & tag.attrs['href'].endswith('/')]\n",
    "\n",
    "    # remove duplicate links\n",
    "    movie_tags = list(dict.fromkeys(movie_tags))\n",
    "\n",
    "    return movie_tags\n",
    "\n",
    "# function to build the list of movie review links\n",
    "def buildReviewLinks(movie_tags):\n",
    "    movie_links = [base_url + tag + 'reviews' for tag in movie_tags]\n",
    "    return movie_links\n",
    "\n",
    "# Function that returns the index of negative and positive review.\n",
    "def minMax(a):   \n",
    "    # get the index of least rated user review\n",
    "    minpos = a.index(min(a))\n",
    "    \n",
    "    # get the index of highest rated user review\n",
    "    maxpos = a.index(max(a))\n",
    "    \n",
    "    return minpos, maxpos\n",
    "\n",
    "# Function returns a negative and positive review for each movie.\n",
    "def getMovieReviews(soup):    \n",
    "    # get a list of user ratings\n",
    "    user_review_ratings = [tag.previous_element for tag in \n",
    "                           soup.find_all('span', attrs={'class': 'point-scale'})]\n",
    "    \n",
    "    # find the index of negative and positive review\n",
    "    n_index, p_index = minMax(list(map(int, user_review_ratings)))\n",
    "    \n",
    "    # get the review tags\n",
    "    user_review_list = soup.find_all('a', attrs={'class':'title'})\n",
    "    \n",
    "    # get the negative and positive review tags\n",
    "    n_review_tag = user_review_list[n_index]\n",
    "    p_review_tag = user_review_list[p_index]\n",
    "    \n",
    "    # return the negative and positive review link\n",
    "    n_review_link = base_url + n_review_tag['href']\n",
    "    p_review_link = base_url + p_review_tag['href']\n",
    "    \n",
    "    return n_review_link, p_review_link\n",
    "\n",
    "# Returns the user review text given the review url.\n",
    "def getMovieReviewText(review_url):   \n",
    "    # get the review_url's soup\n",
    "    soup = urlToSoup(review_url)\n",
    "    \n",
    "    # find div tags with class text show-more__control\n",
    "    tag = soup.find('div', attrs={'class': 'text show-more__control'})\n",
    "    \n",
    "    return tag.getText()\n",
    "\n",
    "# Returns the movie title from the review url.\n",
    "def getMovieTitle(review_url):\n",
    "    # get the review_url's soup\n",
    "    soup = urlToSoup(review_url)\n",
    "    \n",
    "    # find h1 tag\n",
    "    tag = soup.find('h1')\n",
    "    \n",
    "    return list(tag.children)[1].getText()\n",
    "\n",
    "# Returns the NP chunked review results\n",
    "def processReviewText(document):\n",
    "    sentences = nltk.sent_tokenize(document)\n",
    "    sentences = [nltk.word_tokenize(sent) for sent in sentences]\n",
    "    sentences = [nltk.pos_tag(sent) for sent in sentences]\n",
    "    sentences = [getMovieReviewTags(sent) for sent in sentences]\n",
    "    return sentences\n",
    "\n",
    "# Returns the tagged version of the review\n",
    "def getMovieReviewTags(reviewSentence):\t\n",
    "    nps = []\n",
    "\n",
    "    # NOTE: For purposes of the exercise I'm treating\n",
    "    # the grammar variable as a global so that the regular\n",
    "    # expression patterns can be change it as needed\n",
    "    cp = nltk.RegexpParser(grammar)\n",
    "    tree = cp.parse(reviewSentence)\n",
    "\n",
    "    # loop through the trees produced and pull out only the \n",
    "    # NP subtrees\n",
    "    for subtree in tree.subtrees():\n",
    "        if subtree.label() == 'NP':\n",
    "            t = subtree\n",
    "            t = ' '.join(word for word, tag in t.leaves())\n",
    "            nps.append(t)\n",
    "\n",
    "    return nps\n",
    "\n",
    "# Returns the k-means clusters for the documents\n",
    "def getKMeans(reviews, kVal = 5):\n",
    "    # build a TFIDFVectorizer with the engligh stop words\n",
    "    vectorizer = TfidfVectorizer(stop_words='english')\n",
    "    X = vectorizer.fit_transform(reviews)\n",
    "\n",
    "    # execute KMeans on the vectorized data\n",
    "    model = KMeans(n_clusters=kVal, init='k-means++', max_iter=100, n_init=1)\n",
    "    model.fit(X)\n",
    "\n",
    "    # print out the top terms per cluster for the user\n",
    "    print(\"Top terms per cluster:\")\n",
    "    order_centroids = model.cluster_centers_.argsort()[:, ::-1]\n",
    "    terms = vectorizer.get_feature_names()\n",
    "    \n",
    "    clusters = []\n",
    "\n",
    "    for i in range(kVal):\n",
    "        cluster_terms = []\n",
    "        print(\"Cluster %d:\" % i),\n",
    "\n",
    "        for ind in order_centroids[i, :10]:\n",
    "         cluster_terms.append(terms[ind])\n",
    "         print(' %s' % terms[ind]),\n",
    "        \n",
    "        clusters.append(cluster_terms)\n",
    "        print\n",
    "\n",
    "    print(\"\\n\")\n",
    "\n",
    "    return clusters\n",
    "\n",
    "def getClusterSentimentScores(termsList):\n",
    "    all_scores = []\n",
    "\n",
    "    for terms in termsList:\n",
    "        scores = []\n",
    "\n",
    "        for term in terms:\n",
    "            score = sid.polarity_scores(term)\n",
    "            scores.append(score['compound'])\n",
    "\n",
    "        all_scores.append(np.array(scores))\n",
    "\n",
    "    for i, scores in enumerate(all_scores):\n",
    "        print('Cluster {}: '.format(i), end='')\n",
    "\n",
    "        mean = scores.mean()\n",
    "        print('mean: {0:.1}'.format(mean), end=' | ')\n",
    "\n",
    "        median = np.median(scores)\n",
    "        print('median: {}'.format(median), end=' | ')\n",
    "\n",
    "        _max = scores.max()\n",
    "        print('max: {0:.1}'.format(_max), end=' | ')\n",
    "\n",
    "        _min = scores.min()\n",
    "        print('min: {0:.1}'.format(_min))\n",
    "\n",
    "def sentiment_scores(sentence,printScores=True): \n",
    "  \n",
    "    # Create a SentimentIntensityAnalyzer object. \n",
    "    sid_obj = SentimentIntensityAnalyzer() \n",
    "  \n",
    "    # polarity_scores method of SentimentIntensityAnalyzer \n",
    "    # oject gives a sentiment dictionary. \n",
    "    # which contains pos, neg, neu, and compound scores. \n",
    "    sentiment_dict = sid_obj.polarity_scores(sentence) \n",
    "    \n",
    "    if (printScores):\n",
    "        print(\"Overall sentiment dictionary is : \", sentiment_dict) \n",
    "        print(\"sentence was rated as \", sentiment_dict['neg']*100, \"% Negative\") \n",
    "        print(\"sentence was rated as \", sentiment_dict['neu']*100, \"% Neutral\") \n",
    "        print(\"sentence was rated as \", sentiment_dict['pos']*100, \"% Positive\") \n",
    "  \n",
    "        print(\"Sentence Overall Rated As\", end = \" \") \n",
    "  \n",
    "        # decide sentiment as positive, negative and neutral \n",
    "        if sentiment_dict['compound'] >= 0.05 : \n",
    "            print(\"Positive\") \n",
    "  \n",
    "        elif sentiment_dict['compound'] <= - 0.05 : \n",
    "            print(\"Negative\") \n",
    "  \n",
    "        else : \n",
    "            print(\"Neutral\") \n",
    "\n",
    "    return sentiment_dict['compound']\n",
    "\n",
    "def getChunkedSentimentScores(reviewChunk,printScores=False):\n",
    "\n",
    "    termList = []\n",
    "    scoreList = []\n",
    "\n",
    "    for terms in reviewChunk:\n",
    "        for term in terms:\n",
    "            termStr = ' '.join(term)\n",
    "            sent_score = sentiment_scores(termStr,printScores)\n",
    "\n",
    "            if sent_score >= 0.05 : \n",
    "                termList.append(termStr)\n",
    "                scoreList.append(sent_score)\n",
    "            elif sent_score <= - 0.05 : \n",
    "                termList.append(termStr)\n",
    "                scoreList.append(sent_score)\n",
    "\n",
    "    return termList, scoreList"
   ]
  },
  {
   "cell_type": "markdown",
   "metadata": {},
   "source": [
    "First lets connect to IMDB. We're going to pull films that are rated highly rated in the thriller genre. Pull back 250 movies"
   ]
  },
  {
   "cell_type": "code",
   "execution_count": 3,
   "metadata": {
    "tags": []
   },
   "outputs": [
    {
     "output_type": "stream",
     "name": "stdout",
     "text": "There are a total of 250 movie user reviews\nDisplaying 10 user reviews links\n"
    },
    {
     "output_type": "execute_result",
     "data": {
      "text/plain": "['/title/tt0468569/',\n '/title/tt1375666/',\n '/title/tt6751668/',\n '/title/tt0816692/',\n '/title/tt0114369/',\n '/title/tt0102926/',\n '/title/tt7286456/',\n '/title/tt0482571/',\n '/title/tt0407887/',\n '/title/tt0114814/']"
     },
     "metadata": {},
     "execution_count": 3
    }
   ],
   "source": [
    "# API call to select:\n",
    "## feature films\n",
    "## which are rated atleast 4.0\n",
    "## having atleast 50,000 votes\n",
    "## in the Thriller genre\n",
    "## sorted by user rating\n",
    "## limit to 250 movies\n",
    "url = '''https://www.imdb.com/search/title/?title_type=feature&user_rating=4.0,10.0\n",
    "&num_votes=50000,&genres=thriller&view=simple&sort=user_rating,desc&count=250'''\n",
    "\n",
    "# transform the movie url list to a BeautifulSoup object\n",
    "movies_soup = urlToSoup(url)\n",
    "\n",
    "# in looking at the returned list there's some filtering that needs to be done\n",
    "# filter off tags with none and just cleanup the list in general\n",
    "movie_tags = filterMovieTags(movies_soup)\n",
    "\n",
    "# Print out the number of reviews we have and show the first 10 items\n",
    "print(\"There are a total of \" + str(len(movie_tags)) + \" movie user reviews\")\n",
    "print(\"Displaying 10 user reviews links\")\n",
    "movie_tags[:10]"
   ]
  },
  {
   "cell_type": "markdown",
   "metadata": {},
   "source": [
    "Now let's build out the list of specific movie review URLs to be able to parse the reviews"
   ]
  },
  {
   "cell_type": "code",
   "execution_count": 4,
   "metadata": {
    "tags": []
   },
   "outputs": [
    {
     "output_type": "stream",
     "name": "stdout",
     "text": "There are a total of 250 movie user reviews\nDisplaying 10 user reviews links\n"
    },
    {
     "output_type": "execute_result",
     "data": {
      "text/plain": "['https://www.imdb.com/title/tt0468569/reviews',\n 'https://www.imdb.com/title/tt1375666/reviews',\n 'https://www.imdb.com/title/tt6751668/reviews',\n 'https://www.imdb.com/title/tt0816692/reviews',\n 'https://www.imdb.com/title/tt0114369/reviews',\n 'https://www.imdb.com/title/tt0102926/reviews',\n 'https://www.imdb.com/title/tt7286456/reviews',\n 'https://www.imdb.com/title/tt0482571/reviews',\n 'https://www.imdb.com/title/tt0407887/reviews',\n 'https://www.imdb.com/title/tt0114814/reviews']"
     },
     "metadata": {},
     "execution_count": 4
    }
   ],
   "source": [
    "# build out the list of reviews\n",
    "review_links = buildReviewLinks(movie_tags)\n",
    "\n",
    "print(\"There are a total of \" + str(len(review_links)) + \" movie user reviews\")\n",
    "print(\"Displaying 10 user reviews links\")\n",
    "review_links[:10]"
   ]
  },
  {
   "cell_type": "markdown",
   "metadata": {},
   "source": [
    "Now go through each of the reviews and filter by positive and negative reviews. This will give us two individual movie reviews for each movie"
   ]
  },
  {
   "cell_type": "code",
   "execution_count": 5,
   "metadata": {
    "tags": []
   },
   "outputs": [
    {
     "output_type": "stream",
     "name": "stdout",
     "text": "There are a total of 500 individual movie reviews\nDisplaying 10 reviews\n"
    },
    {
     "output_type": "execute_result",
     "data": {
      "text/plain": "['https://www.imdb.com/review/rw2599771/',\n 'https://www.imdb.com/review/rw5478826/',\n 'https://www.imdb.com/review/rw2286063/',\n 'https://www.imdb.com/review/rw4692192/',\n 'https://www.imdb.com/review/rw5389992/',\n 'https://www.imdb.com/review/rw5195256/',\n 'https://www.imdb.com/review/rw3119344/',\n 'https://www.imdb.com/review/rw5145037/',\n 'https://www.imdb.com/review/rw1136748/',\n 'https://www.imdb.com/review/rw0370669/']"
     },
     "metadata": {},
     "execution_count": 5
    }
   ],
   "source": [
    "\n",
    "# get a list of soup objects\n",
    "movie_soups = [urlToSoup(link) for link in review_links]\n",
    "\n",
    "# get all movie review links\n",
    "movie_review_list = [getMovieReviews(movie_soup) for movie_soup in movie_soups]\n",
    "\n",
    "movie_review_list = list(itertools.chain(*movie_review_list))\n",
    "\n",
    "# For a check make a listing of the review URLs\n",
    "print(\"There are a total of \" + str(len(movie_review_list)) + \" individual movie reviews\")\n",
    "print(\"Displaying 10 reviews\")\n",
    "movie_review_list[:10]"
   ]
  },
  {
   "cell_type": "markdown",
   "metadata": {},
   "source": [
    "To make things a bit easier to read build a pandas data frame. This data frame will house the movie title, the link the the user review, the user review and the sentiment of the review."
   ]
  },
  {
   "cell_type": "code",
   "execution_count": 6,
   "metadata": {},
   "outputs": [
    {
     "output_type": "execute_result",
     "data": {
      "text/plain": "             movie                   user_review_permalink  \\\n0  The Dark Knight  https://www.imdb.com/review/rw2599771/   \n1  The Dark Knight  https://www.imdb.com/review/rw5478826/   \n2        Inception  https://www.imdb.com/review/rw2286063/   \n3        Inception  https://www.imdb.com/review/rw4692192/   \n4         Parasite  https://www.imdb.com/review/rw5389992/   \n\n                                                                                                                                                                                                                                                                                                                                                                                                                                                                                                           user_review  \\\n0  Let's open this review with the fact that Batman is THE BEST superhero ever, with no other even coming close to his levels. So when a sequel is made for an unforgettable movie like \"Batman Begins\" expectations are EXTREMELY high. I think that if you could describe this movie in a few words it would be \"152 minutes of pure awesomeness.\" Christopher Nolan probably created the best ever comic book adaptation of a movie. The movie itself has been adapted in a much more realistic fashion than the...   \n1                                                                                                                                                                                                                  Confidently directed, dark, brooding, and packed with impressive action sequences and a complex story, The Dark Knight includes a career-defining turn from Heath Ledger as well as other Oscar worthy performances, TDK remains not only the best Batman movie, but comic book movie ever created.   \n2  I have to say to make such an impressive trailer and such an uninteresting film, takes some doing.Here you have most of the elements that would make a very good film. You have great special effects, a sci-fi conundrum, beautiful visuals and good sound. Yet the most important part of the film is missing. There is no plot, character or soul to this film. It's like having a beautiful building on the outside with no paint or decoration on the inside.It's an empty shell of a film. There is no ten...   \n3  My 3rd time watching this movie! Yet, it still stunned my mind, kept me enjoyed its every moment and left me with many thoughts afterward.\\nFor someone like me, who've rarely slept without dream, it's so exciting watching how Christopher Nolan had illustrated every single characteristic of dream on the big screen. As it's been done so sophisticatedly, I do believe the rumour that Nolan had spent 10 years to finish the script of Inception. In my opinion, it's been so far the greatest achievem...   \n4                                                                                                                                                                                                          The film is ok but that's as far as I go. It's worth a watch but only a score of 6 for me. It's not a masterpiece, it's not film of the decade it's not even film of the year. I don't understand how people can give it 10, 10 is a perfect score. 10 is unachievable in my opinion as nothing is perfect.   \n\n  sentiment  \n0  negative  \n1  positive  \n2  negative  \n3  positive  \n4  negative  ",
      "text/html": "<div>\n<style scoped>\n    .dataframe tbody tr th:only-of-type {\n        vertical-align: middle;\n    }\n\n    .dataframe tbody tr th {\n        vertical-align: top;\n    }\n\n    .dataframe thead th {\n        text-align: right;\n    }\n</style>\n<table border=\"1\" class=\"dataframe\">\n  <thead>\n    <tr style=\"text-align: right;\">\n      <th></th>\n      <th>movie</th>\n      <th>user_review_permalink</th>\n      <th>user_review</th>\n      <th>sentiment</th>\n    </tr>\n  </thead>\n  <tbody>\n    <tr>\n      <th>0</th>\n      <td>The Dark Knight</td>\n      <td>https://www.imdb.com/review/rw2599771/</td>\n      <td>Let's open this review with the fact that Batman is THE BEST superhero ever, with no other even coming close to his levels. So when a sequel is made for an unforgettable movie like \"Batman Begins\" expectations are EXTREMELY high. I think that if you could describe this movie in a few words it would be \"152 minutes of pure awesomeness.\" Christopher Nolan probably created the best ever comic book adaptation of a movie. The movie itself has been adapted in a much more realistic fashion than the...</td>\n      <td>negative</td>\n    </tr>\n    <tr>\n      <th>1</th>\n      <td>The Dark Knight</td>\n      <td>https://www.imdb.com/review/rw5478826/</td>\n      <td>Confidently directed, dark, brooding, and packed with impressive action sequences and a complex story, The Dark Knight includes a career-defining turn from Heath Ledger as well as other Oscar worthy performances, TDK remains not only the best Batman movie, but comic book movie ever created.</td>\n      <td>positive</td>\n    </tr>\n    <tr>\n      <th>2</th>\n      <td>Inception</td>\n      <td>https://www.imdb.com/review/rw2286063/</td>\n      <td>I have to say to make such an impressive trailer and such an uninteresting film, takes some doing.Here you have most of the elements that would make a very good film. You have great special effects, a sci-fi conundrum, beautiful visuals and good sound. Yet the most important part of the film is missing. There is no plot, character or soul to this film. It's like having a beautiful building on the outside with no paint or decoration on the inside.It's an empty shell of a film. There is no ten...</td>\n      <td>negative</td>\n    </tr>\n    <tr>\n      <th>3</th>\n      <td>Inception</td>\n      <td>https://www.imdb.com/review/rw4692192/</td>\n      <td>My 3rd time watching this movie! Yet, it still stunned my mind, kept me enjoyed its every moment and left me with many thoughts afterward.\\nFor someone like me, who've rarely slept without dream, it's so exciting watching how Christopher Nolan had illustrated every single characteristic of dream on the big screen. As it's been done so sophisticatedly, I do believe the rumour that Nolan had spent 10 years to finish the script of Inception. In my opinion, it's been so far the greatest achievem...</td>\n      <td>positive</td>\n    </tr>\n    <tr>\n      <th>4</th>\n      <td>Parasite</td>\n      <td>https://www.imdb.com/review/rw5389992/</td>\n      <td>The film is ok but that's as far as I go. It's worth a watch but only a score of 6 for me. It's not a masterpiece, it's not film of the decade it's not even film of the year. I don't understand how people can give it 10, 10 is a perfect score. 10 is unachievable in my opinion as nothing is perfect.</td>\n      <td>negative</td>\n    </tr>\n  </tbody>\n</table>\n</div>"
     },
     "metadata": {},
     "execution_count": 6
    }
   ],
   "source": [
    "# get review text from the review link\n",
    "review_texts = [getMovieReviewText(url) for url in movie_review_list]\n",
    "\n",
    "# get movie name from the review link\n",
    "movie_titles = [getMovieTitle(url) for url in movie_review_list]\n",
    "\n",
    "# label each review with negative or positive\n",
    "review_sentiment = np.array(['negative', 'positive'] * (len(movie_review_list)//2))\n",
    "\n",
    "# construct a dataframe\n",
    "df = pd.DataFrame({'movie': movie_titles, 'user_review_permalink': movie_review_list,\n",
    "             'user_review': review_texts, 'sentiment': review_sentiment})\n",
    "\n",
    "# show the dataframe head to show what we return back\n",
    "df.head()"
   ]
  },
  {
   "cell_type": "markdown",
   "metadata": {},
   "source": [
    "Cluster using K-means for 5 clusters"
   ]
  },
  {
   "cell_type": "code",
   "execution_count": 7,
   "metadata": {
    "tags": []
   },
   "outputs": [
    {
     "output_type": "stream",
     "name": "stdout",
     "text": "Top terms per cluster:\nCluster 0:\n caligari\n alan\n young\n film\n cabinet\n tale\n man\n beckert\n war\n movie\nCluster 1:\n movie\n film\n good\n just\n like\n story\n horror\n don\n people\n way\nCluster 2:\n police\n movie\n killer\n serial\n film\n make\n korea\n bank\n lousy\n corruption\nCluster 3:\n action\n film\n movie\n best\n love\n movies\n time\n bond\n great\n films\nCluster 4:\n film\n story\n movie\n best\n character\n time\n films\n characters\n like\n just\n\n\n"
    }
   ],
   "source": [
    "# Execute the K-Means function on the reviews. We'll initially use the default number of clusters which is 5\n",
    "top_terms_k5 = getKMeans(review_texts)"
   ]
  },
  {
   "cell_type": "code",
   "execution_count": 8,
   "metadata": {
    "tags": []
   },
   "outputs": [
    {
     "output_type": "stream",
     "name": "stdout",
     "text": "Top terms per cluster:\nCluster 0:\n film\n movie\n best\n warriors\n action\n time\n character\n jackman\n series\n franchise\nCluster 1:\n movie\n film\n scene\n just\n coraline\n kane\n town\n like\n children\n laughton\nCluster 2:\n film\n horror\n story\n movie\n time\n films\n great\n best\n action\n character\nCluster 3:\n movie\n russian\n like\n acting\n seen\n story\n time\n ve\n punk\n serial\nCluster 4:\n film\n com\n list\n imdb\n best\n http\n www\n noir\n favorite\n films\nCluster 5:\n movie\n film\n good\n like\n just\n oscar\n movies\n story\n really\n make\nCluster 6:\n film\n bourne\n movie\n action\n feel\n like\n just\n good\n time\n story\nCluster 7:\n hitchcock\n film\n grant\n hitch\n films\n like\n murder\n vertigo\n character\n perfect\nCluster 8:\n movie\n film\n story\n don\n great\n just\n good\n people\n movies\n like\nCluster 9:\n film\n films\n sci\n fi\n action\n life\n time\n story\n gattaca\n best\n\n\n"
    }
   ],
   "source": [
    "# Execute the K-Means function on the reviews, use a number of clusters equal to 10\n",
    "top_terms_k10 = getKMeans(review_texts,10)"
   ]
  },
  {
   "cell_type": "code",
   "execution_count": 9,
   "metadata": {
    "tags": []
   },
   "outputs": [
    {
     "output_type": "stream",
     "name": "stdout",
     "text": "Top terms per cluster:\nCluster 0:\n niro\n connery\n scorsese\n bond\n craig\n daniel\n nonsense\n blair\n witch\n untolerable\nCluster 1:\n media\n social\n disconnect\n lou\n internet\n wednesday\n twists\n required\n technology\n pleased\nCluster 2:\n horror\n house\n wan\n conjuring\n amityville\n bope\n film\n insidious\n movie\n nascimento\nCluster 3:\n hard\n action\n die\n film\n bond\n movie\n love\n mcclane\n franchise\n john\nCluster 4:\n movie\n minutes\n sense\n just\n film\n lola\n make\n 30\n direction\n time\nCluster 5:\n film\n com\n list\n imdb\n watch\n http\n www\n 10\n ending\n favorite\nCluster 6:\n slevin\n movie\n people\n lesson\n time\n haneke\n criminal\n crash\n racism\n hackman\nCluster 7:\n german\n conditions\n submarine\n film\n caligari\n south\n modern\n stasi\n dreyman\n hundreds\nCluster 8:\n good\n movie\n film\n story\n like\n perfect\n bad\n guys\n just\n movies\nCluster 9:\n movie\n police\n end\n kong\n departed\n run\n don\n cop\n hong\n table\nCluster 10:\n coraline\n selick\n haneke\n world\n children\n parents\n voice\n acts\n movie\n neighbors\nCluster 11:\n bourne\n film\n action\n jason\n identity\n book\n epicness\n spy\n bond\n movie\nCluster 12:\n horror\n film\n films\n bale\n time\n like\n woman\n anderson\n hitchcock\n place\nCluster 13:\n movie\n story\n just\n great\n movies\n film\n people\n like\n really\n think\nCluster 14:\n film\n tarantino\n miller\n just\n frank\n noir\n kane\n book\n bruno\n character\nCluster 15:\n lee\n man\n revenge\n film\n fred\n jones\n alma\n korea\n movie\n ford\nCluster 16:\n film\n like\n characters\n movie\n character\n story\n best\n good\n acting\n films\nCluster 17:\n movie\n don\n story\n like\n movies\n did\n film\n people\n just\n best\nCluster 18:\n action\n film\n movie\n best\n time\n films\n max\n seen\n akira\n just\nCluster 19:\n murder\n stewart\n korea\n film\n biegler\n legal\n sides\n right\n killer\n case\n\n\n"
    }
   ],
   "source": [
    "# Execute the K-Means function on the reviews, use a number of clusters equal to 20\n",
    "top_terms_k20 = getKMeans(review_texts,20)"
   ]
  },
  {
   "cell_type": "markdown",
   "metadata": {},
   "source": [
    "1.\tIn Python, load one of the sentiment vocabularies referenced in the textbook, and run the sentiment analyzer as explained in the corresponding reference. Add words to the sentiment vocabulary, if you think you need to, to better fit your particular text collection."
   ]
  },
  {
   "cell_type": "code",
   "execution_count": 10,
   "metadata": {
    "tags": []
   },
   "outputs": [
    {
     "output_type": "stream",
     "name": "stderr",
     "text": "[nltk_data] Downloading package vader_lexicon to\n[nltk_data]     C:\\Users\\croomb\\AppData\\Roaming\\nltk_data...\n[nltk_data]   Package vader_lexicon is already up-to-date!\n"
    }
   ],
   "source": [
    "import nltk\n",
    "from nltk.sentiment.vader import SentimentIntensityAnalyzer\n",
    "sid = None\n",
    "try:\n",
    "    sid = SentimentIntensityAnalyzer('vader_lexicon')\n",
    "except:\n",
    "    nltk.download('vader_lexicon')\n",
    "    sid = SentimentIntensityAnalyzer()"
   ]
  },
  {
   "cell_type": "code",
   "execution_count": 11,
   "metadata": {},
   "outputs": [
    {
     "output_type": "execute_result",
     "data": {
      "text/plain": "{'neg': 1.0, 'neu': 0.0, 'pos': 0.0, 'compound': -0.5106}"
     },
     "metadata": {},
     "execution_count": 11
    }
   ],
   "source": [
    "sid.polarity_scores('):{')"
   ]
  },
  {
   "cell_type": "markdown",
   "metadata": {},
   "source": [
    "2.\tFor each of the clusters you created in homework 7, compute the average, median, high, and low sentiment scores for each cluster. Explain whether you think this reveals anything interesting about the clusters."
   ]
  },
  {
   "cell_type": "code",
   "execution_count": 12,
   "metadata": {
    "tags": []
   },
   "outputs": [
    {
     "output_type": "stream",
     "name": "stdout",
     "text": "Cluster 0: mean: -0.06 | median: 0.0 | max: 0e+00 | min: -0.6\nCluster 1: mean: 0.02 | median: 0.0 | max: 0.4 | min: -0.6\nCluster 2: mean: -0.1 | median: 0.0 | max: 0e+00 | min: -0.6\nCluster 3: mean: 0.2 | median: 0.0 | max: 0.6 | min: 0e+00\nCluster 4: mean: 0.1 | median: 0.0 | max: 0.6 | min: 0e+00\n"
    }
   ],
   "source": [
    "# get the cluster sentiment scores for the 5 clusters\n",
    "getClusterSentimentScores(top_terms_k5)"
   ]
  },
  {
   "cell_type": "markdown",
   "metadata": {},
   "source": [
    "For the five cluster sentiment, we see that each mean is above zero which would imply a positive sentiment in all clusters. THis could be due to higher positive terms in those clusters"
   ]
  },
  {
   "cell_type": "code",
   "execution_count": 13,
   "metadata": {
    "tags": []
   },
   "outputs": [
    {
     "output_type": "stream",
     "name": "stdout",
     "text": "Cluster 0: mean: 0.06 | median: 0.0 | max: 0.6 | min: 0e+00\nCluster 1: mean: 0.04 | median: 0.0 | max: 0.4 | min: 0e+00\nCluster 2: mean: 0.07 | median: 0.0 | max: 0.6 | min: -0.6\nCluster 3: mean: 0.04 | median: 0.0 | max: 0.4 | min: 0e+00\nCluster 4: mean: 0.1 | median: 0.0 | max: 0.6 | min: 0e+00\nCluster 5: mean: 0.08 | median: 0.0 | max: 0.4 | min: 0e+00\nCluster 6: mean: 0.08 | median: 0.0 | max: 0.4 | min: 0e+00\nCluster 7: mean: 0.06 | median: 0.0 | max: 0.6 | min: -0.7\nCluster 8: mean: 0.1 | median: 0.0 | max: 0.6 | min: 0e+00\nCluster 9: mean: 0.06 | median: 0.0 | max: 0.6 | min: 0e+00\n"
    }
   ],
   "source": [
    "# get the cluster sentiment scores for the 10 clusters\n",
    "getClusterSentimentScores(top_terms_k10)"
   ]
  },
  {
   "cell_type": "markdown",
   "metadata": {},
   "source": [
    "For the ten cluster sentiment, we see that the majority of the clusters still maintain a positive sentiment. Cluster 0 has a mean of zero which would indicate a neutral sentiment. Clusters 6 and 8 have a negative mean which would indicate negative sentiment for these clusters."
   ]
  },
  {
   "cell_type": "code",
   "execution_count": 14,
   "metadata": {
    "tags": []
   },
   "outputs": [
    {
     "output_type": "stream",
     "name": "stdout",
     "text": "Cluster 0: mean: -0.08 | median: 0.0 | max: 0e+00 | min: -0.4\nCluster 1: mean: 0.04 | median: 0.0 | max: 0.4 | min: 0e+00\nCluster 2: mean: -0.06 | median: 0.0 | max: 0e+00 | min: -0.6\nCluster 3: mean: -0.007 | median: 0.0 | max: 0.6 | min: -0.6\nCluster 4: mean: 0e+00 | median: 0.0 | max: 0e+00 | min: 0e+00\nCluster 5: mean: 0.05 | median: 0.0 | max: 0.5 | min: 0e+00\nCluster 6: mean: -0.2 | median: 0.0 | max: 0e+00 | min: -0.6\nCluster 7: mean: 0e+00 | median: 0.0 | max: 0e+00 | min: 0e+00\nCluster 8: mean: 0.08 | median: 0.0 | max: 0.6 | min: -0.5\nCluster 9: mean: 0e+00 | median: 0.0 | max: 0e+00 | min: 0e+00\nCluster 10: mean: 0e+00 | median: 0.0 | max: 0e+00 | min: 0e+00\nCluster 11: mean: 0e+00 | median: 0.0 | max: 0e+00 | min: 0e+00\nCluster 12: mean: -0.02 | median: 0.0 | max: 0.4 | min: -0.6\nCluster 13: mean: 0.1 | median: 0.0 | max: 0.6 | min: 0e+00\nCluster 14: mean: 0e+00 | median: 0.0 | max: 0e+00 | min: 0e+00\nCluster 15: mean: -0.05 | median: 0.0 | max: 0e+00 | min: -0.5\nCluster 16: mean: 0.1 | median: 0.0 | max: 0.6 | min: 0e+00\nCluster 17: mean: 0.1 | median: 0.0 | max: 0.6 | min: 0e+00\nCluster 18: mean: 0.06 | median: 0.0 | max: 0.6 | min: 0e+00\nCluster 19:mean: -0.1 | median: 0.0 | max: 0.1 | min: -0.7\n"
    }
   ],
   "source": [
    "# get the cluster sentiment for the 20 clusters\n",
    "getClusterSentimentScores(top_terms_k20)"
   ]
  },
  {
   "cell_type": "markdown",
   "metadata": {},
   "source": [
    "### Question 2 Analysis Summarization\n",
    "\n",
    "<u>Cluster Execution- k=5</u>\n",
    "\n",
    "For the five cluster sentiment, we see that each mean is above zero which would imply a positive sentiment in all clusters. THis could be due to higher positive terms in those clusters.\n",
    "\n",
    "<u>Cluster Execution - k=10</u>\n",
    "\n",
    "For the ten cluster sentiment, we see that the majority of the clusters still maintain a positive sentiment. Cluster 0 has a mean of zero which would indicate a neutral sentiment. Clusters 6 and 8 have a negative mean which would indicate negative sentiment for these clusters.\n",
    "\n",
    "<u>Cluster Execution - k=20</u>\n",
    "\n",
    "For the twenty cluster sentiment, we see that for clusters 0, 6, 14 and 18 the mean is zero which indicates a neutral sentiment. Clusters 1, 8, 16 and 19 have negative means which indicate negative sentiment. The remaining clusters have a positive mean which indicates a positive sentiment."
   ]
  },
  {
   "cell_type": "markdown",
   "metadata": {},
   "source": [
    "3.\tFor extra credit, analyze sentiment of chunks as follows:\n",
    "\n",
    " - Take the chunks from homework 5, and in Python, run each chunk individually through your sentiment analyzer that you used in question 1. If the chunk registers a nonneutral sentiment, save it in a tabular format (the chunk, the sentiment score).\n",
    "\n",
    " - Now sort the table twice, once to show the highest negative-sentiment-scoring chunks at the top and again to show the highest positive-sentiment-scoring chunks at the top. Examine the upper portions of both sorted lists, to identify any trends, and explain what you see. "
   ]
  },
  {
   "cell_type": "code",
   "execution_count": 15,
   "metadata": {},
   "outputs": [],
   "source": [
    "# Use one of the chunking sets from HW5 to build out chucks. We'll add these to our data frame\n",
    "grammar = \"\"\"\n",
    "    NP:    {<DT><WP><VBP>*<RB>*<VBN><IN><NN>}\n",
    "           {<NN|NNS|NNP|NNPS><IN>*<NN|NNS|NNP|NNPS>+}\n",
    "           {<JJ>*<NN|NNS|NNP|NNPS><CC>*<NN|NNS|NNP|NNPS>+}\n",
    "           {<JJ>*<NN|NNS|NNP|NNPS>+}\n",
    "    \"\"\"   \n",
    "df['proc_user_review2'] = df['user_review'].apply(processReviewText)"
   ]
  },
  {
   "cell_type": "markdown",
   "metadata": {},
   "source": [
    "Now get the sentiment for each chunk of words and put them into a dataframe for later analysis"
   ]
  },
  {
   "cell_type": "code",
   "execution_count": 16,
   "metadata": {
    "tags": []
   },
   "outputs": [
    {
     "output_type": "execute_result",
     "data": {
      "text/plain": "                                                                TermsStr  \\\n0                      review fact that Batman THE BEST superhero levels   \n1                First movie PERFECT for people punches drama explosions   \n2                   anything BUT corny few important characters flawless   \n3                                           Christian Bale amazing actor   \n4  Michael Cane portrays Alfred Pennyworth love with Batman loyal butler   \n\n   Sentiment_Score  \n0           0.7125  \n1           0.6633  \n2           0.7684  \n3           0.5859  \n4           0.8074  ",
      "text/html": "<div>\n<style scoped>\n    .dataframe tbody tr th:only-of-type {\n        vertical-align: middle;\n    }\n\n    .dataframe tbody tr th {\n        vertical-align: top;\n    }\n\n    .dataframe thead th {\n        text-align: right;\n    }\n</style>\n<table border=\"1\" class=\"dataframe\">\n  <thead>\n    <tr style=\"text-align: right;\">\n      <th></th>\n      <th>TermsStr</th>\n      <th>Sentiment_Score</th>\n    </tr>\n  </thead>\n  <tbody>\n    <tr>\n      <th>0</th>\n      <td>review fact that Batman THE BEST superhero levels</td>\n      <td>0.7125</td>\n    </tr>\n    <tr>\n      <th>1</th>\n      <td>First movie PERFECT for people punches drama explosions</td>\n      <td>0.6633</td>\n    </tr>\n    <tr>\n      <th>2</th>\n      <td>anything BUT corny few important characters flawless</td>\n      <td>0.7684</td>\n    </tr>\n    <tr>\n      <th>3</th>\n      <td>Christian Bale amazing actor</td>\n      <td>0.5859</td>\n    </tr>\n    <tr>\n      <th>4</th>\n      <td>Michael Cane portrays Alfred Pennyworth love with Batman loyal butler</td>\n      <td>0.8074</td>\n    </tr>\n  </tbody>\n</table>\n</div>"
     },
     "metadata": {},
     "execution_count": 16
    }
   ],
   "source": [
    "# get the chunked sentiment analysis results. Get the score and the list of terms\n",
    "termList, scoreList = getChunkedSentimentScores(df['proc_user_review2'].tolist())\n",
    "\n",
    "# build out a data frame for easy analysis\n",
    "df_sent = pd.DataFrame({'TermsStr': termList, 'Sentiment_Score': scoreList})\n",
    "\n",
    "# double check the data frame to make sure we have results\n",
    "df_sent.head()"
   ]
  },
  {
   "cell_type": "markdown",
   "metadata": {},
   "source": [
    "Sort the list with the negative sentiments at the top"
   ]
  },
  {
   "cell_type": "code",
   "execution_count": 17,
   "metadata": {
    "tags": []
   },
   "outputs": [
    {
     "output_type": "execute_result",
     "data": {
      "text/plain": "                                                                                                                                                                                                                                                                                                                                                                                                                                                                                                                 TermsStr  \\\n2229                                                                                                                                                                                                                                                                                                          EVIL DEAD II director Sam Raimi infamous sequel THE EVIL DEAD outrageous prequel ARMY OF DARKNESS Evil Dead II publicity materials Evil Dead Dawn horror comedy film Sam Raimi parody sequel film Evil Dead   \n1393  narrator failure with blood veins March of Time commentator loud film horses off track titles dramatic music tension characters while plot time mystery and tension characters Johnny Clay Sterling Hayden convict years in Alcatraz dollar hold-up bunch human beings jigsaw pieces intricacy plan Irish barman amiable old book-keeper crooked cop George Peatty Elisha Cook Jr  eyes mobile mouth incarnation of fear uncertainty countless Hollywood thrillers personification boy killer Kubrick tricks wi...   \n2225                                                                                                                                                                                                                                                                           Raimi director points for finesse manic breathless style outré black comedy Evil Dead franchise devil caution wind spirit Evil Dead trilogy Army of Darkness third film Raimi-Campbell remake Evil Dead cult sensation audiences films day   \n2227                                                                                                                                                                                                                                                                                                                                                             Evil Dead Dawn sinister comedy blacker death consistent guffaws eyes blood and guts.Ash Bruce Campbell survivor of THE EVIL DEAD same cabin woods forces   \n55                                                                                                    line life 'lesser human beings passing unpleasant feelings mental shock 'proper human beings.However Ki-Taek family Mr. Park house Mr. Park family existence 'parasite presence basement room house.With such disillusionment and anger Ki-Taek Mr. Park parasite host parasite dead host body whole carcass nourishment offsprings.The tragedy something exceptional defect or vice Mr. Park Ki-Taek personalities   \n2818                                                                                                                                                                                                                                                                                                                                                                                                 Often rape reports deal violation scene home thought violation sheer terror victims scene men and women rape men men   \n2568                                                                                                                                                                                                                                                                                                                close-ups occasion without sound actors facial expressions key moments characters pain fear anger bitter anguish remorse or grief dialogue could.This breathtaking film critical smash box-office hit   \n2209                                                                                                                                                                                                                                                                                                                                                                                                                                Evil Dead Dawn sequel cult classic film Evil Dead film prequel Army of Darkness years   \n3754  film Spielberg Munich intrigue point dramatic thriller nature national retaliation something Spielberg tries equilibrium sensitive issue attention consciousness Israeli assassins attempts injury innocent girl deplorable suffering Palestinians right of self-determination homeland Everyone story different opinion Munich Israel response murder Olympics Israeli athletes militants Spielberg disputable film Israel retaliation Israeli commando Mossad agent father assassination squad means mastermin...   \n2226                                                                                                                                                                                                                                                                                                                                                                  Evil Dead Dawn gruesome affair lot time Campbell arch delivery wide-eyed crazed performance style Raimi Scott Speigel reinvention Evil Dead premise   \n\n      Sentiment_Score  \n2229          -0.9956  \n1393          -0.9934  \n2225          -0.9853  \n2227          -0.9768  \n55            -0.9726  \n2818          -0.9702  \n2568          -0.9661  \n2209          -0.9657  \n3754          -0.9652  \n2226          -0.9633  ",
      "text/html": "<div>\n<style scoped>\n    .dataframe tbody tr th:only-of-type {\n        vertical-align: middle;\n    }\n\n    .dataframe tbody tr th {\n        vertical-align: top;\n    }\n\n    .dataframe thead th {\n        text-align: right;\n    }\n</style>\n<table border=\"1\" class=\"dataframe\">\n  <thead>\n    <tr style=\"text-align: right;\">\n      <th></th>\n      <th>TermsStr</th>\n      <th>Sentiment_Score</th>\n    </tr>\n  </thead>\n  <tbody>\n    <tr>\n      <th>2229</th>\n      <td>EVIL DEAD II director Sam Raimi infamous sequel THE EVIL DEAD outrageous prequel ARMY OF DARKNESS Evil Dead II publicity materials Evil Dead Dawn horror comedy film Sam Raimi parody sequel film Evil Dead</td>\n      <td>-0.9956</td>\n    </tr>\n    <tr>\n      <th>1393</th>\n      <td>narrator failure with blood veins March of Time commentator loud film horses off track titles dramatic music tension characters while plot time mystery and tension characters Johnny Clay Sterling Hayden convict years in Alcatraz dollar hold-up bunch human beings jigsaw pieces intricacy plan Irish barman amiable old book-keeper crooked cop George Peatty Elisha Cook Jr  eyes mobile mouth incarnation of fear uncertainty countless Hollywood thrillers personification boy killer Kubrick tricks wi...</td>\n      <td>-0.9934</td>\n    </tr>\n    <tr>\n      <th>2225</th>\n      <td>Raimi director points for finesse manic breathless style outré black comedy Evil Dead franchise devil caution wind spirit Evil Dead trilogy Army of Darkness third film Raimi-Campbell remake Evil Dead cult sensation audiences films day</td>\n      <td>-0.9853</td>\n    </tr>\n    <tr>\n      <th>2227</th>\n      <td>Evil Dead Dawn sinister comedy blacker death consistent guffaws eyes blood and guts.Ash Bruce Campbell survivor of THE EVIL DEAD same cabin woods forces</td>\n      <td>-0.9768</td>\n    </tr>\n    <tr>\n      <th>55</th>\n      <td>line life 'lesser human beings passing unpleasant feelings mental shock 'proper human beings.However Ki-Taek family Mr. Park house Mr. Park family existence 'parasite presence basement room house.With such disillusionment and anger Ki-Taek Mr. Park parasite host parasite dead host body whole carcass nourishment offsprings.The tragedy something exceptional defect or vice Mr. Park Ki-Taek personalities</td>\n      <td>-0.9726</td>\n    </tr>\n    <tr>\n      <th>2818</th>\n      <td>Often rape reports deal violation scene home thought violation sheer terror victims scene men and women rape men men</td>\n      <td>-0.9702</td>\n    </tr>\n    <tr>\n      <th>2568</th>\n      <td>close-ups occasion without sound actors facial expressions key moments characters pain fear anger bitter anguish remorse or grief dialogue could.This breathtaking film critical smash box-office hit</td>\n      <td>-0.9661</td>\n    </tr>\n    <tr>\n      <th>2209</th>\n      <td>Evil Dead Dawn sequel cult classic film Evil Dead film prequel Army of Darkness years</td>\n      <td>-0.9657</td>\n    </tr>\n    <tr>\n      <th>3754</th>\n      <td>film Spielberg Munich intrigue point dramatic thriller nature national retaliation something Spielberg tries equilibrium sensitive issue attention consciousness Israeli assassins attempts injury innocent girl deplorable suffering Palestinians right of self-determination homeland Everyone story different opinion Munich Israel response murder Olympics Israeli athletes militants Spielberg disputable film Israel retaliation Israeli commando Mossad agent father assassination squad means mastermin...</td>\n      <td>-0.9652</td>\n    </tr>\n    <tr>\n      <th>2226</th>\n      <td>Evil Dead Dawn gruesome affair lot time Campbell arch delivery wide-eyed crazed performance style Raimi Scott Speigel reinvention Evil Dead premise</td>\n      <td>-0.9633</td>\n    </tr>\n  </tbody>\n</table>\n</div>"
     },
     "metadata": {},
     "execution_count": 17
    }
   ],
   "source": [
    "# Sort the data frame on sentiment score, ascending so we get the negative reviews at the top\n",
    "df_sent.sort_values(by=['Sentiment_Score'],ascending=True,inplace=True)\n",
    "\n",
    "# Display the first 10 records\n",
    "df_sent.head(10)"
   ]
  },
  {
   "cell_type": "markdown",
   "metadata": {},
   "source": [
    "Sort the list with the positive sentiments at the top"
   ]
  },
  {
   "cell_type": "code",
   "execution_count": 18,
   "metadata": {},
   "outputs": [
    {
     "output_type": "execute_result",
     "data": {
      "text/plain": "                                                                                                                                                                                                                                                                                                                                                                                                                                  TermsStr  \\\n560                                                                                                                                                                                                                          GREAT ESCAPE liberties in tone character portrayal key elements ignorance.BRIDGE ON THE RIVER KWAI great film liberties technical details events THE GREAT ESCAPE .... VON RYAN EXPRESS realistic alternative   \n2542                                                                                                                                                                                                                                                                                                     Throw magnificent screenplay marvelous cinematography plot efficiency Swiss watch added bonus gorgeous actress result huge winner   \n1106  level expectations city city chase scene CIA Bourne several key officers Agency covert operation Bourne beginnings.David Strathairn GOOD NIGHT AND GOOD LUCK Scott Glenn FREEDOM WRITERS star Agency higher-ups attempts Jason Bourne Bourne and someone own department.Female Joan Allen THE ICE STORM Julia Stiles THE OMEN pull okay performances Allen CIA agent superiors Jason Bourne Stiles love interest Jason danger Bourne   \n2466                                                                                                                                                                                                                                               True link strong films themes pain and loss stories settings amazing attention share strong focus superb performances.Eastwood way honors for Penn Freeman Swank Hackman others Academy   \n1593                                                                                                                                                                                                                                                                                                                                                                              great acting great characters great story great dialogue   \n3212                                                                                                                                                                                                              hallmark masterpiece of art film making.It years courage affect on me.This engaging thought provoking loving movie incredible pacing lovable characters don´t sci fi horror movies love story sci fi tones.I years heart   \n2634                                                                                                                                                                                                                                                                                                                                                              truly masterpiece script-wise anything brilliant script excellent actors   \n253                                                    thing Tabu piece of Info Radhika case high profile info hand from Ayushman Tabu whereabouts Raghavan truth time- audience brilliant tale hearts suspense illusion for sure.Raghavan Ayushman cane Rabbit duck handle saying- that Ayushman illusion way presence of Rabbit story.It delightful way audience things original word movie title notice difference something validation   \n2031                                                                                                                                                                                                                                                                                    Nick Frost great second banana punchline Pegg straight line adolescent way relief sidekick.The film great surprise performance from Timothy Dalton   \n224                                                                                                                                                                                                                                                                                                                               comedic talent fun film.If fine drama storyline twists little humor great acting and dialog classic film   \n\n      Sentiment_Score  \n560            0.9782  \n2542           0.9747  \n1106           0.9739  \n2466           0.9633  \n1593           0.9545  \n3212           0.9538  \n2634           0.9382  \n253            0.9371  \n2031           0.9360  \n224            0.9352  ",
      "text/html": "<div>\n<style scoped>\n    .dataframe tbody tr th:only-of-type {\n        vertical-align: middle;\n    }\n\n    .dataframe tbody tr th {\n        vertical-align: top;\n    }\n\n    .dataframe thead th {\n        text-align: right;\n    }\n</style>\n<table border=\"1\" class=\"dataframe\">\n  <thead>\n    <tr style=\"text-align: right;\">\n      <th></th>\n      <th>TermsStr</th>\n      <th>Sentiment_Score</th>\n    </tr>\n  </thead>\n  <tbody>\n    <tr>\n      <th>560</th>\n      <td>GREAT ESCAPE liberties in tone character portrayal key elements ignorance.BRIDGE ON THE RIVER KWAI great film liberties technical details events THE GREAT ESCAPE .... VON RYAN EXPRESS realistic alternative</td>\n      <td>0.9782</td>\n    </tr>\n    <tr>\n      <th>2542</th>\n      <td>Throw magnificent screenplay marvelous cinematography plot efficiency Swiss watch added bonus gorgeous actress result huge winner</td>\n      <td>0.9747</td>\n    </tr>\n    <tr>\n      <th>1106</th>\n      <td>level expectations city city chase scene CIA Bourne several key officers Agency covert operation Bourne beginnings.David Strathairn GOOD NIGHT AND GOOD LUCK Scott Glenn FREEDOM WRITERS star Agency higher-ups attempts Jason Bourne Bourne and someone own department.Female Joan Allen THE ICE STORM Julia Stiles THE OMEN pull okay performances Allen CIA agent superiors Jason Bourne Stiles love interest Jason danger Bourne</td>\n      <td>0.9739</td>\n    </tr>\n    <tr>\n      <th>2466</th>\n      <td>True link strong films themes pain and loss stories settings amazing attention share strong focus superb performances.Eastwood way honors for Penn Freeman Swank Hackman others Academy</td>\n      <td>0.9633</td>\n    </tr>\n    <tr>\n      <th>1593</th>\n      <td>great acting great characters great story great dialogue</td>\n      <td>0.9545</td>\n    </tr>\n    <tr>\n      <th>3212</th>\n      <td>hallmark masterpiece of art film making.It years courage affect on me.This engaging thought provoking loving movie incredible pacing lovable characters don´t sci fi horror movies love story sci fi tones.I years heart</td>\n      <td>0.9538</td>\n    </tr>\n    <tr>\n      <th>2634</th>\n      <td>truly masterpiece script-wise anything brilliant script excellent actors</td>\n      <td>0.9382</td>\n    </tr>\n    <tr>\n      <th>253</th>\n      <td>thing Tabu piece of Info Radhika case high profile info hand from Ayushman Tabu whereabouts Raghavan truth time- audience brilliant tale hearts suspense illusion for sure.Raghavan Ayushman cane Rabbit duck handle saying- that Ayushman illusion way presence of Rabbit story.It delightful way audience things original word movie title notice difference something validation</td>\n      <td>0.9371</td>\n    </tr>\n    <tr>\n      <th>2031</th>\n      <td>Nick Frost great second banana punchline Pegg straight line adolescent way relief sidekick.The film great surprise performance from Timothy Dalton</td>\n      <td>0.9360</td>\n    </tr>\n    <tr>\n      <th>224</th>\n      <td>comedic talent fun film.If fine drama storyline twists little humor great acting and dialog classic film</td>\n      <td>0.9352</td>\n    </tr>\n  </tbody>\n</table>\n</div>"
     },
     "metadata": {},
     "execution_count": 18
    }
   ],
   "source": [
    "# Sort the data frame on sentiment score, descending so we get the positive reviews at the top\n",
    "df_sent.sort_values(by=['Sentiment_Score'],ascending=False,inplace=True)\n",
    "\n",
    "# Display the first 10 records\n",
    "df_sent.head(10)"
   ]
  },
  {
   "cell_type": "markdown",
   "metadata": {},
   "source": [
    "### Question 3 Analysis\n",
    "\n",
    "Looking that the top ten items from the most negative and most positive sentiments we see trends in the individual listings. For example, in the negative sentiments we see a lot of negative words such as failure, fear and anger. These terms all elicit a negative emotion and make sense. We can also see that with respect to the sentiment analysis there is a lot of negative sentiment detected for the movie series \"The Evil Dead\". Without context we could simply say reviewers dislike this movie series. However, this negative sentiments could also be due to the fact that these movies sit in the horror genre and many reviews could be positive but the descriptive words used around horror movies may unexpectedly turn the sentiment negative.\n",
    "\n",
    "Looking at the positive list, We see a lot of positive words such as great, fun, and magnificent. These listing of positive sentiments doesn't seem to have a lot of focus on a particular genere of movie or a particular movie. The sentiment seems to be more spread out for the positive sentiment items."
   ]
  }
 ],
 "metadata": {
  "language_info": {
   "codemirror_mode": {
    "name": "ipython",
    "version": 3
   },
   "file_extension": ".py",
   "mimetype": "text/x-python",
   "name": "python",
   "nbconvert_exporter": "python",
   "pygments_lexer": "ipython3",
   "version": "3.8.3-candidate"
  },
  "orig_nbformat": 2,
  "kernelspec": {
   "name": "python38364bit36305f9ad6c54384bcdc334bae9910c8",
   "display_name": "Python 3.8.3 64-bit"
  }
 },
 "nbformat": 4,
 "nbformat_minor": 2
}