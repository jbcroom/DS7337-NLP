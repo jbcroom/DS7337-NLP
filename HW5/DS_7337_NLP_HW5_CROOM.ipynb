{
 "cells": [
  {
   "cell_type": "markdown",
   "metadata": {},
   "source": [
    "## DS 7337 - Natural Language Processing\n",
    "\n",
    "### Author: Brandon Croom\n",
    "\n",
    "### Homework: 5"
   ]
  },
  {
   "cell_type": "markdown",
   "metadata": {},
   "source": [
    "### Assignment Criteria:\n",
    "\n",
    "1.\tCompile a list of static links (permalinks) to individual user movie reviews from one particular website. This will be your working dataset for this assignment, as well as for assignments 7 and 8, which together will make up your semester project.   \n",
    "* it does not matter if you use a crawler or if you manually collect the links, but you will need at least 100 movie review links. Note that, as of this writing, the robots.txt file of IMDB.com allows the crawling of user reviews.\n",
    "* Each link should be to a web page that has only one user review of only one movie, e.g., the user review permalinks on the IMDB site.\n",
    "* Choose reviews of movies that are all in the same genre, e.g., sci-fi, mystery, romance, superhero, etc.  \n",
    "* Make sure your collection includes reviews of several movies in your chosen genre and that it includes a mix of negative and positive reviews. \n",
    "\n",
    "2.\tExtract noun phrase (NP) chunks from your reviews using the following procedure:\n",
    "* In Python, use BeautifulSoup to grab the main review text from each link.  \n",
    "* Next run each review text through a tokenizer, and then try to NP-chunk it with a shallow parser. \n",
    "* You probably will have too many unknown words, owing to proper names of characters, actors, and so on that are not in your working dictionary. Make sure the main names that are relevant to the movies in your collection of reviews are added to the working lexicon, and then run the NP chunker again.\n",
    "\n",
    "3.\tOutput all the chunks in a single list for each review, and submit that output for this assignment. Also submit a brief written summary of what you did (describe your selection of genre, your source of reviews, how many you collected, and by what means).\n"
   ]
  },
  {
   "cell_type": "code",
   "execution_count": 39,
   "metadata": {},
   "outputs": [],
   "source": [
    "# import nltk and other items\n",
    "import nltk\n",
    "from nltk.tokenize import word_tokenize \n",
    "import numpy as np\n",
    "import requests\n",
    "from bs4 import BeautifulSoup\n",
    "import re\n",
    "import pandas as pd\n",
    "import itertools\n",
    "from nltk.chunk import *\n",
    "from nltk.chunk.util import *\n",
    "from nltk.chunk.regexp import *\n",
    "\n",
    "pd.options.display.max_colwidth=500\n",
    "\n",
    "#define some static values, specifically our source of information IMBD, our output file and the url for our IMDB search\n",
    "base_url = \"https://www.imdb.com\"\n",
    "outfile = \"DS_7337_NLP_HW5_CROOM.csv\"\n",
    "\n",
    "# API call to select:\n",
    "#  -feature films\n",
    "#  -which are rated atleast 4.0\n",
    "#  -having atleast 50,000 votes\n",
    "#  -in the Thriller genre\n",
    "#  -sorted by user rating\n",
    "#  -limit to 250 movies\n",
    "url = '''https://www.imdb.com/search/title/?title_type=feature&user_rating=4.0,10.0\n",
    "&num_votes=50000,&genres=thriller&view=simple&sort=user_rating,desc&count=250'''"
   ]
  },
  {
   "cell_type": "code",
   "execution_count": 35,
   "metadata": {},
   "outputs": [],
   "source": [
    "# define helper functions for the work\n",
    "\n",
    "# Utility function which takes a url and returns a Soup object.\n",
    "def urlToSoup(url): \n",
    "    response = requests.get(url)\n",
    "    soup = BeautifulSoup(response.text, 'html.parser')\n",
    "    \n",
    "    return soup\n",
    "\n",
    "# Utility function to filter out movie tag issues\n",
    "def filterMovieTags(movieSoup):\n",
    "    # find all a-tags with class:None\n",
    "    movie_tags = movieSoup.find_all('a', attrs={'class': None})\n",
    "\n",
    "    # filter the a-tags to get just the titles\n",
    "    movie_tags = [tag.attrs['href'] for tag in movie_tags \n",
    "                  if tag.attrs['href'].startswith('/title') & tag.attrs['href'].endswith('/')]\n",
    "\n",
    "    # remove duplicate links\n",
    "    movie_tags = list(dict.fromkeys(movie_tags))\n",
    "\n",
    "    return movie_tags\n",
    "\n",
    "# function to build the list of movie review links\n",
    "def buildReviewLinks(movie_tags):\n",
    "    movie_links = [base_url + tag + 'reviews' for tag in movie_tags]\n",
    "    return movie_links\n",
    "\n",
    "# Function that returns the index of negative and positive review.\n",
    "def minMax(a):   \n",
    "    # get the index of least rated user review\n",
    "    minpos = a.index(min(a))\n",
    "    \n",
    "    # get the index of highest rated user review\n",
    "    maxpos = a.index(max(a))\n",
    "    \n",
    "    return minpos, maxpos\n",
    "\n",
    "# Function returns a negative and positive review for each movie.\n",
    "def getMovieReviews(soup):    \n",
    "    # get a list of user ratings\n",
    "    user_review_ratings = [tag.previous_element for tag in \n",
    "                           soup.find_all('span', attrs={'class': 'point-scale'})]\n",
    "    \n",
    "    # find the index of negative and positive review\n",
    "    n_index, p_index = minMax(list(map(int, user_review_ratings)))\n",
    "    \n",
    "    # get the review tags\n",
    "    user_review_list = soup.find_all('a', attrs={'class':'title'})\n",
    "    \n",
    "    # get the negative and positive review tags\n",
    "    n_review_tag = user_review_list[n_index]\n",
    "    p_review_tag = user_review_list[p_index]\n",
    "    \n",
    "    # return the negative and positive review link\n",
    "    n_review_link = base_url + n_review_tag['href']\n",
    "    p_review_link = base_url + p_review_tag['href']\n",
    "    \n",
    "    return n_review_link, p_review_link\n",
    "\n",
    "# Returns the user review text given the review url.\n",
    "def getMovieReviewText(review_url):   \n",
    "    # get the review_url's soup\n",
    "    soup = urlToSoup(review_url)\n",
    "    \n",
    "    # find div tags with class text show-more__control\n",
    "    tag = soup.find('div', attrs={'class': 'text show-more__control'})\n",
    "    \n",
    "    return tag.getText()\n",
    "\n",
    "# Returns the movie title from the review url.\n",
    "def getMovieTitle(review_url):\n",
    "    # get the review_url's soup\n",
    "    soup = urlToSoup(review_url)\n",
    "    \n",
    "    # find h1 tag\n",
    "    tag = soup.find('h1')\n",
    "    \n",
    "    return list(tag.children)[1].getText()\n",
    "\n",
    "# Returns the NP chunked review results\n",
    "def processReviewText(document):\n",
    "    sentences = nltk.sent_tokenize(document)\n",
    "    sentences = [nltk.word_tokenize(sent) for sent in sentences]\n",
    "    sentences = [nltk.pos_tag(sent) for sent in sentences]\n",
    "    sentences = [getMovieReviewTags(sent) for sent in sentences]\n",
    "    return sentences\n",
    "\n",
    "# Returns the tagged version of the review\n",
    "def getMovieReviewTags(reviewSentence):\t\n",
    "    nps = []\n",
    "\n",
    "    # NOTE: For purposes of the exercise I'm treating\n",
    "    # the grammar variable as a global so that the regular\n",
    "    # expression patterns can be change it as needed\n",
    "    cp = nltk.RegexpParser(grammar)\n",
    "    tree = cp.parse(reviewSentence)\n",
    "\n",
    "    # loop through the trees produced and pull out only the \n",
    "    # NP subtrees\n",
    "    for subtree in tree.subtrees():\n",
    "        if subtree.label() == 'NP':\n",
    "            t = subtree\n",
    "            t = ' '.join(word for word, tag in t.leaves())\n",
    "            nps.append(t)\n",
    "\n",
    "    return nps\n",
    "\n"
   ]
  },
  {
   "cell_type": "markdown",
   "metadata": {},
   "source": [
    "1.\tCompile a list of static links (permalinks) to individual user movie reviews from one particular website. This will be your working dataset for this assignment, as well as for assignments 7 and 8, which together will make up your semester project.   \n",
    "* it does not matter if you use a crawler or if you manually collect the links, but you will need at least 100 movie review links. Note that, as of this writing, the robots.txt file of IMDB.com allows the crawling of user reviews.\n",
    "* Each link should be to a web page that has only one user review of only one movie, e.g., the user review permalinks on the IMDB site.\n",
    "* Choose reviews of movies that are all in the same genre, e.g., sci-fi, mystery, romance, superhero, etc.  \n",
    "* Make sure your collection includes reviews of several movies in your chosen genre and that it includes a mix of negative and positive reviews"
   ]
  },
  {
   "cell_type": "markdown",
   "metadata": {},
   "source": [
    "First lets connect to IMDB. We're going to pull films that are rated highly rated in the thriller genre. Pull back 250 movies"
   ]
  },
  {
   "cell_type": "code",
   "execution_count": 36,
   "metadata": {
    "tags": []
   },
   "outputs": [
    {
     "output_type": "stream",
     "name": "stdout",
     "text": "There are a total of 250 movie user reviews\nDisplaying 10 user reviews links\n"
    },
    {
     "output_type": "execute_result",
     "data": {
      "text/plain": "['/title/tt0468569/',\n '/title/tt1375666/',\n '/title/tt6751668/',\n '/title/tt0816692/',\n '/title/tt0114369/',\n '/title/tt0102926/',\n '/title/tt7286456/',\n '/title/tt0482571/',\n '/title/tt0407887/',\n '/title/tt0114814/']"
     },
     "metadata": {},
     "execution_count": 36
    }
   ],
   "source": [
    "# API call to select:\n",
    "## feature films\n",
    "## which are rated atleast 4.0\n",
    "## having atleast 50,000 votes\n",
    "## in the Thriller genre\n",
    "## sorted by user rating\n",
    "## limit to 250 movies\n",
    "url = '''https://www.imdb.com/search/title/?title_type=feature&user_rating=4.0,10.0\n",
    "&num_votes=50000,&genres=thriller&view=simple&sort=user_rating,desc&count=250'''\n",
    "\n",
    "# transform the movie url list to a BeautifulSoup object\n",
    "movies_soup = urlToSoup(url)\n",
    "\n",
    "# in looking at the returned list there's some filtering that needs to be done\n",
    "# filter off tags with none and just cleanup the list in general\n",
    "movie_tags = filterMovieTags(movies_soup)\n",
    "\n",
    "# Print out the number of reviews we have and show the first 10 items\n",
    "print(\"There are a total of \" + str(len(movie_tags)) + \" movie user reviews\")\n",
    "print(\"Displaying 10 user reviews links\")\n",
    "movie_tags[:10]"
   ]
  },
  {
   "cell_type": "markdown",
   "metadata": {},
   "source": [
    "Now let's build out the list of specific movie review URLs to be able to parse the reviews"
   ]
  },
  {
   "cell_type": "code",
   "execution_count": 4,
   "metadata": {
    "tags": []
   },
   "outputs": [
    {
     "output_type": "stream",
     "name": "stdout",
     "text": "There are a total of 250 movie user reviews\nDisplaying 10 user reviews links\n"
    },
    {
     "output_type": "execute_result",
     "data": {
      "text/plain": "['https://www.imdb.com/title/tt0468569/reviews',\n 'https://www.imdb.com/title/tt1375666/reviews',\n 'https://www.imdb.com/title/tt6751668/reviews',\n 'https://www.imdb.com/title/tt0816692/reviews',\n 'https://www.imdb.com/title/tt0114369/reviews',\n 'https://www.imdb.com/title/tt0102926/reviews',\n 'https://www.imdb.com/title/tt7286456/reviews',\n 'https://www.imdb.com/title/tt0482571/reviews',\n 'https://www.imdb.com/title/tt0407887/reviews',\n 'https://www.imdb.com/title/tt0114814/reviews']"
     },
     "metadata": {},
     "execution_count": 4
    }
   ],
   "source": [
    "# build out the list of reviews\n",
    "review_links = buildReviewLinks(movie_tags)\n",
    "\n",
    "print(\"There are a total of \" + str(len(review_links)) + \" movie user reviews\")\n",
    "print(\"Displaying 10 user reviews links\")\n",
    "review_links[:10]"
   ]
  },
  {
   "cell_type": "markdown",
   "metadata": {},
   "source": [
    "Now go through each of the reviews and filter by positive and negative reviews. This will give us two individual movie reviews for each movie"
   ]
  },
  {
   "cell_type": "code",
   "execution_count": 5,
   "metadata": {
    "tags": []
   },
   "outputs": [
    {
     "output_type": "stream",
     "name": "stdout",
     "text": "There are a total of 500 individual movie reviews\nDisplaying 10 reviews\n"
    },
    {
     "output_type": "execute_result",
     "data": {
      "text/plain": "['https://www.imdb.com/review/rw4392977/',\n 'https://www.imdb.com/review/rw5478826/',\n 'https://www.imdb.com/review/rw2286063/',\n 'https://www.imdb.com/review/rw4692192/',\n 'https://www.imdb.com/review/rw5520184/',\n 'https://www.imdb.com/review/rw5195256/',\n 'https://www.imdb.com/review/rw3119344/',\n 'https://www.imdb.com/review/rw5145037/',\n 'https://www.imdb.com/review/rw0370671/',\n 'https://www.imdb.com/review/rw0370669/']"
     },
     "metadata": {},
     "execution_count": 5
    }
   ],
   "source": [
    "\n",
    "# get a list of soup objects\n",
    "movie_soups = [urlToSoup(link) for link in review_links]\n",
    "\n",
    "# get all movie review links\n",
    "movie_review_list = [getMovieReviews(movie_soup) for movie_soup in movie_soups]\n",
    "\n",
    "movie_review_list = list(itertools.chain(*movie_review_list))\n",
    "\n",
    "# For a check make a listing of the review URLs\n",
    "print(\"There are a total of \" + str(len(movie_review_list)) + \" individual movie reviews\")\n",
    "print(\"Displaying 10 reviews\")\n",
    "movie_review_list[:10]"
   ]
  },
  {
   "cell_type": "markdown",
   "metadata": {},
   "source": [
    "To make things a bit easier to read build a pandas data frame. This data frame will house the movie title, the link the the user review, the user review and the sentiment of the review."
   ]
  },
  {
   "cell_type": "code",
   "execution_count": 6,
   "metadata": {},
   "outputs": [
    {
     "output_type": "execute_result",
     "data": {
      "text/plain": "             movie                   user_review_permalink  \\\n0  The Dark Knight  https://www.imdb.com/review/rw4392977/   \n1  The Dark Knight  https://www.imdb.com/review/rw5478826/   \n2        Inception  https://www.imdb.com/review/rw2286063/   \n3        Inception  https://www.imdb.com/review/rw4692192/   \n4         Parasite  https://www.imdb.com/review/rw5520184/   \n\n                                                                                                                                                                                                                                                                                                                                                                                                                                                                                                           user_review  \\\n0  First I'd controversially like to point out that this movie wouldn't have gotten as much hype as it did if it wasn't for Heath Ledger's death before the release and the Academy not being afraid to give an Oscar to a corpse.Nevertheless, his performance is easily the best one in the superhero genre and the crafty, well put together New York accent confirms he put a lot of dedication and effort into his methodical role and deserved what he got (an Oscar). This isn't just another Batman movie a...   \n1                                                                                                                                                                                                                  Confidently directed, dark, brooding, and packed with impressive action sequences and a complex story, The Dark Knight includes a career-defining turn from Heath Ledger as well as other Oscar worthy performances, TDK remains not only the best Batman movie, but comic book movie ever created.   \n2  I have to say to make such an impressive trailer and such an uninteresting film, takes some doing.Here you have most of the elements that would make a very good film. You have great special effects, a sci-fi conundrum, beautiful visuals and good sound. Yet the most important part of the film is missing. There is no plot, character or soul to this film. It's like having a beautiful building on the outside with no paint or decoration on the inside.It's an empty shell of a film. There is no ten...   \n3  My 3rd time watching this movie! Yet, it still stunned my mind, kept me enjoyed its every moment and left me with many thoughts afterward.\\nFor someone like me, who've rarely slept without dream, it's so exciting watching how Christopher Nolan had illustrated every single characteristic of dream on the big screen. As it's been done so sophisticatedly, I do believe the rumour that Nolan had spent 10 years to finish the script of Inception. In my opinion, it's been so far the greatest achievem...   \n4              I came to this movie with an open mind, despite the hoo ha around it. Stylistically yep, I can see the hoo haa. The same goes for the acting, once again exceptional . The humour was also done really well. It's just that past the halfway mark it becomes a bit 'meh'. Kind of similar in a way to the film 'us', once it did it's core 'reveal'. It's good that western audiences will watch it and hopefully realise there is a film industry outside of the west..but this film just an ok for me   \n\n  sentiment  \n0  negative  \n1  positive  \n2  negative  \n3  positive  \n4  negative  ",
      "text/html": "<div>\n<style scoped>\n    .dataframe tbody tr th:only-of-type {\n        vertical-align: middle;\n    }\n\n    .dataframe tbody tr th {\n        vertical-align: top;\n    }\n\n    .dataframe thead th {\n        text-align: right;\n    }\n</style>\n<table border=\"1\" class=\"dataframe\">\n  <thead>\n    <tr style=\"text-align: right;\">\n      <th></th>\n      <th>movie</th>\n      <th>user_review_permalink</th>\n      <th>user_review</th>\n      <th>sentiment</th>\n    </tr>\n  </thead>\n  <tbody>\n    <tr>\n      <th>0</th>\n      <td>The Dark Knight</td>\n      <td>https://www.imdb.com/review/rw4392977/</td>\n      <td>First I'd controversially like to point out that this movie wouldn't have gotten as much hype as it did if it wasn't for Heath Ledger's death before the release and the Academy not being afraid to give an Oscar to a corpse.Nevertheless, his performance is easily the best one in the superhero genre and the crafty, well put together New York accent confirms he put a lot of dedication and effort into his methodical role and deserved what he got (an Oscar). This isn't just another Batman movie a...</td>\n      <td>negative</td>\n    </tr>\n    <tr>\n      <th>1</th>\n      <td>The Dark Knight</td>\n      <td>https://www.imdb.com/review/rw5478826/</td>\n      <td>Confidently directed, dark, brooding, and packed with impressive action sequences and a complex story, The Dark Knight includes a career-defining turn from Heath Ledger as well as other Oscar worthy performances, TDK remains not only the best Batman movie, but comic book movie ever created.</td>\n      <td>positive</td>\n    </tr>\n    <tr>\n      <th>2</th>\n      <td>Inception</td>\n      <td>https://www.imdb.com/review/rw2286063/</td>\n      <td>I have to say to make such an impressive trailer and such an uninteresting film, takes some doing.Here you have most of the elements that would make a very good film. You have great special effects, a sci-fi conundrum, beautiful visuals and good sound. Yet the most important part of the film is missing. There is no plot, character or soul to this film. It's like having a beautiful building on the outside with no paint or decoration on the inside.It's an empty shell of a film. There is no ten...</td>\n      <td>negative</td>\n    </tr>\n    <tr>\n      <th>3</th>\n      <td>Inception</td>\n      <td>https://www.imdb.com/review/rw4692192/</td>\n      <td>My 3rd time watching this movie! Yet, it still stunned my mind, kept me enjoyed its every moment and left me with many thoughts afterward.\\nFor someone like me, who've rarely slept without dream, it's so exciting watching how Christopher Nolan had illustrated every single characteristic of dream on the big screen. As it's been done so sophisticatedly, I do believe the rumour that Nolan had spent 10 years to finish the script of Inception. In my opinion, it's been so far the greatest achievem...</td>\n      <td>positive</td>\n    </tr>\n    <tr>\n      <th>4</th>\n      <td>Parasite</td>\n      <td>https://www.imdb.com/review/rw5520184/</td>\n      <td>I came to this movie with an open mind, despite the hoo ha around it. Stylistically yep, I can see the hoo haa. The same goes for the acting, once again exceptional . The humour was also done really well. It's just that past the halfway mark it becomes a bit 'meh'. Kind of similar in a way to the film 'us', once it did it's core 'reveal'. It's good that western audiences will watch it and hopefully realise there is a film industry outside of the west..but this film just an ok for me</td>\n      <td>negative</td>\n    </tr>\n  </tbody>\n</table>\n</div>"
     },
     "metadata": {},
     "execution_count": 6
    }
   ],
   "source": [
    "# get review text from the review link\n",
    "review_texts = [getMovieReviewText(url) for url in movie_review_list]\n",
    "\n",
    "# get movie name from the review link\n",
    "movie_titles = [getMovieTitle(url) for url in movie_review_list]\n",
    "\n",
    "# label each review with negative or positive\n",
    "review_sentiment = np.array(['negative', 'positive'] * (len(movie_review_list)//2))\n",
    "\n",
    "# construct a dataframe\n",
    "df = pd.DataFrame({'movie': movie_titles, 'user_review_permalink': movie_review_list,\n",
    "             'user_review': review_texts, 'sentiment': review_sentiment})\n",
    "\n",
    "# show the dataframe head to show what we return back\n",
    "df.head()"
   ]
  },
  {
   "cell_type": "markdown",
   "metadata": {},
   "source": [
    "2.\tExtract noun phrase (NP) chunks from your reviews using the following procedure:\n",
    "* In Python, use BeautifulSoup to grab the main review text from each link.  \n",
    "* Next run each review text through a tokenizer, and then try to NP-chunk it with a shallow parser. \n",
    "* You probably will have too many unknown words, owing to proper names of characters, actors, and so on that are not in your working dictionary. Make sure the main names that are relevant to the movies in your collection of reviews are added to the working lexicon, and then run the NP chunker again.\n"
   ]
  },
  {
   "cell_type": "markdown",
   "metadata": {},
   "source": [
    "Now let's run the reviews through our processReviewText function. This function will tokenize the review, run it through the NP parser and then return only the NP tree values. We're basing this initial search on our grammer value defined to look at: sequences of proper nouns, nouns following each other and determiner/possessive, adjectives and noun. We'll add these to a new column called proc_user_review"
   ]
  },
  {
   "cell_type": "code",
   "execution_count": 33,
   "metadata": {
    "tags": []
   },
   "outputs": [
    {
     "output_type": "execute_result",
     "data": {
      "text/plain": "             movie                   user_review_permalink  \\\n0  The Dark Knight  https://www.imdb.com/review/rw4392977/   \n1  The Dark Knight  https://www.imdb.com/review/rw5478826/   \n2        Inception  https://www.imdb.com/review/rw2286063/   \n3        Inception  https://www.imdb.com/review/rw4692192/   \n4         Parasite  https://www.imdb.com/review/rw5520184/   \n\n                                                                                                                                                                                                                                                                                                                                                                                                                                                                                                           user_review  \\\n0  First I'd controversially like to point out that this movie wouldn't have gotten as much hype as it did if it wasn't for Heath Ledger's death before the release and the Academy not being afraid to give an Oscar to a corpse.Nevertheless, his performance is easily the best one in the superhero genre and the crafty, well put together New York accent confirms he put a lot of dedication and effort into his methodical role and deserved what he got (an Oscar). This isn't just another Batman movie a...   \n1                                                                                                                                                                                                                  Confidently directed, dark, brooding, and packed with impressive action sequences and a complex story, The Dark Knight includes a career-defining turn from Heath Ledger as well as other Oscar worthy performances, TDK remains not only the best Batman movie, but comic book movie ever created.   \n2  I have to say to make such an impressive trailer and such an uninteresting film, takes some doing.Here you have most of the elements that would make a very good film. You have great special effects, a sci-fi conundrum, beautiful visuals and good sound. Yet the most important part of the film is missing. There is no plot, character or soul to this film. It's like having a beautiful building on the outside with no paint or decoration on the inside.It's an empty shell of a film. There is no ten...   \n3  My 3rd time watching this movie! Yet, it still stunned my mind, kept me enjoyed its every moment and left me with many thoughts afterward.\\nFor someone like me, who've rarely slept without dream, it's so exciting watching how Christopher Nolan had illustrated every single characteristic of dream on the big screen. As it's been done so sophisticatedly, I do believe the rumour that Nolan had spent 10 years to finish the script of Inception. In my opinion, it's been so far the greatest achievem...   \n4              I came to this movie with an open mind, despite the hoo ha around it. Stylistically yep, I can see the hoo haa. The same goes for the acting, once again exceptional . The humour was also done really well. It's just that past the halfway mark it becomes a bit 'meh'. Kind of similar in a way to the film 'us', once it did it's core 'reveal'. It's good that western audiences will watch it and hopefully realise there is a film industry outside of the west..but this film just an ok for me   \n\n  sentiment  \\\n0  negative   \n1  positive   \n2  negative   \n3  positive   \n4  negative   \n\n                                                                                                                                                                                                                                                                                                                                                                                                                                                                                                      proc_user_review  \n0  [[this movie, much hype, Heath Ledger, death, the release, Academy, Oscar, a corpse.Nevertheless, performance, one, the superhero, genre, the crafty, New York, accent, a lot, dedication, effort, methodical role, an Oscar], [Batman, movie], [action, stunt, work, dialogue, deep.Batman, definitive self, character, Bale, justice], [Christopher Nolan, justifiable treatment], [the reason, the cast, everyone, characters.With beautiful cinematography, presentation, Gotham, Dark Knight, a film, top, ...  \n1                                                                                                                                                                                                                                                                                                                                                              [[dark, brooding, impressive action, a complex story, Dark Knight, a career-defining turn, Heath Ledger, Oscar, TDK, Batman, movie, comic book, movie]]  \n2  [[an impressive trailer, an uninteresting film, good film], [a sci-fi conundrum, good sound], [important part, the film], [no plot, character, soul, this film], [a beautiful building, no paint, decoration, the inside.It, an empty shell, a film], [no tension], [a corporation, another corporation, the human race.When, a dream, environment, nothing], [], [the way, Hollywood, action, scene, an inch], [], [Watch, learn, Matrix, the camera, a couple, watch, a good film], [anyone, right mind, point...  \n3  [[time, this movie], [mind, every moment], [someone, dream, Christopher Nolan, every single characteristic, dream, the big screen], [the rumour, Nolan, the script, Inception], [opinion, achievement, brilliant writer-director career], [this conclusion, a quick benchmark, Nolan, Memento, first signature, the cinema, history, mind-bending film], [the same level, Inception.The Prestige, Nolan, spirit, Batman Trilogy, superhero, saga, all time, peak, Dark Knight, no doubt, a masterpiece], [every ...  \n4                                                                                                                                                                                                                                                                                                              [[this movie, an open mind, the hoo, ha], [the hoo, haa], [the acting], [The humour], [the halfway, mark, a bit], [Kind, a way, the film, 'us, core 'reveal], [a film, industry, .., this film, an ok]]  ",
      "text/html": "<div>\n<style scoped>\n    .dataframe tbody tr th:only-of-type {\n        vertical-align: middle;\n    }\n\n    .dataframe tbody tr th {\n        vertical-align: top;\n    }\n\n    .dataframe thead th {\n        text-align: right;\n    }\n</style>\n<table border=\"1\" class=\"dataframe\">\n  <thead>\n    <tr style=\"text-align: right;\">\n      <th></th>\n      <th>movie</th>\n      <th>user_review_permalink</th>\n      <th>user_review</th>\n      <th>sentiment</th>\n      <th>proc_user_review</th>\n    </tr>\n  </thead>\n  <tbody>\n    <tr>\n      <th>0</th>\n      <td>The Dark Knight</td>\n      <td>https://www.imdb.com/review/rw4392977/</td>\n      <td>First I'd controversially like to point out that this movie wouldn't have gotten as much hype as it did if it wasn't for Heath Ledger's death before the release and the Academy not being afraid to give an Oscar to a corpse.Nevertheless, his performance is easily the best one in the superhero genre and the crafty, well put together New York accent confirms he put a lot of dedication and effort into his methodical role and deserved what he got (an Oscar). This isn't just another Batman movie a...</td>\n      <td>negative</td>\n      <td>[[this movie, much hype, Heath Ledger, death, the release, Academy, Oscar, a corpse.Nevertheless, performance, one, the superhero, genre, the crafty, New York, accent, a lot, dedication, effort, methodical role, an Oscar], [Batman, movie], [action, stunt, work, dialogue, deep.Batman, definitive self, character, Bale, justice], [Christopher Nolan, justifiable treatment], [the reason, the cast, everyone, characters.With beautiful cinematography, presentation, Gotham, Dark Knight, a film, top, ...</td>\n    </tr>\n    <tr>\n      <th>1</th>\n      <td>The Dark Knight</td>\n      <td>https://www.imdb.com/review/rw5478826/</td>\n      <td>Confidently directed, dark, brooding, and packed with impressive action sequences and a complex story, The Dark Knight includes a career-defining turn from Heath Ledger as well as other Oscar worthy performances, TDK remains not only the best Batman movie, but comic book movie ever created.</td>\n      <td>positive</td>\n      <td>[[dark, brooding, impressive action, a complex story, Dark Knight, a career-defining turn, Heath Ledger, Oscar, TDK, Batman, movie, comic book, movie]]</td>\n    </tr>\n    <tr>\n      <th>2</th>\n      <td>Inception</td>\n      <td>https://www.imdb.com/review/rw2286063/</td>\n      <td>I have to say to make such an impressive trailer and such an uninteresting film, takes some doing.Here you have most of the elements that would make a very good film. You have great special effects, a sci-fi conundrum, beautiful visuals and good sound. Yet the most important part of the film is missing. There is no plot, character or soul to this film. It's like having a beautiful building on the outside with no paint or decoration on the inside.It's an empty shell of a film. There is no ten...</td>\n      <td>negative</td>\n      <td>[[an impressive trailer, an uninteresting film, good film], [a sci-fi conundrum, good sound], [important part, the film], [no plot, character, soul, this film], [a beautiful building, no paint, decoration, the inside.It, an empty shell, a film], [no tension], [a corporation, another corporation, the human race.When, a dream, environment, nothing], [], [the way, Hollywood, action, scene, an inch], [], [Watch, learn, Matrix, the camera, a couple, watch, a good film], [anyone, right mind, point...</td>\n    </tr>\n    <tr>\n      <th>3</th>\n      <td>Inception</td>\n      <td>https://www.imdb.com/review/rw4692192/</td>\n      <td>My 3rd time watching this movie! Yet, it still stunned my mind, kept me enjoyed its every moment and left me with many thoughts afterward.\\nFor someone like me, who've rarely slept without dream, it's so exciting watching how Christopher Nolan had illustrated every single characteristic of dream on the big screen. As it's been done so sophisticatedly, I do believe the rumour that Nolan had spent 10 years to finish the script of Inception. In my opinion, it's been so far the greatest achievem...</td>\n      <td>positive</td>\n      <td>[[time, this movie], [mind, every moment], [someone, dream, Christopher Nolan, every single characteristic, dream, the big screen], [the rumour, Nolan, the script, Inception], [opinion, achievement, brilliant writer-director career], [this conclusion, a quick benchmark, Nolan, Memento, first signature, the cinema, history, mind-bending film], [the same level, Inception.The Prestige, Nolan, spirit, Batman Trilogy, superhero, saga, all time, peak, Dark Knight, no doubt, a masterpiece], [every ...</td>\n    </tr>\n    <tr>\n      <th>4</th>\n      <td>Parasite</td>\n      <td>https://www.imdb.com/review/rw5520184/</td>\n      <td>I came to this movie with an open mind, despite the hoo ha around it. Stylistically yep, I can see the hoo haa. The same goes for the acting, once again exceptional . The humour was also done really well. It's just that past the halfway mark it becomes a bit 'meh'. Kind of similar in a way to the film 'us', once it did it's core 'reveal'. It's good that western audiences will watch it and hopefully realise there is a film industry outside of the west..but this film just an ok for me</td>\n      <td>negative</td>\n      <td>[[this movie, an open mind, the hoo, ha], [the hoo, haa], [the acting], [The humour], [the halfway, mark, a bit], [Kind, a way, the film, 'us, core 'reveal], [a film, industry, .., this film, an ok]]</td>\n    </tr>\n  </tbody>\n</table>\n</div>"
     },
     "metadata": {},
     "execution_count": 33
    }
   ],
   "source": [
    "# use an initial grammar regular expression that looks at sequences of proper nouns, nouns following each other and determiner/possessive, adjectives and noun.\n",
    "grammar = r\"\"\"\n",
    "     NP: {<DT|PP\\$>?<JJ>*<NN>}  \n",
    "         {<NNP>+}               \n",
    "         {<NN><NN>}               \n",
    "    \"\"\"\n",
    "\n",
    "df['proc_user_review'] = df['user_review'].apply(processReviewText)\n",
    "df.head()"
   ]
  },
  {
   "cell_type": "markdown",
   "metadata": {},
   "source": [
    "Now we'll change up the grammar value to add additional checks to see if we can get better or worse results. We'll create a new column in the data frame called proc_user_review2"
   ]
  },
  {
   "cell_type": "code",
   "execution_count": 37,
   "metadata": {},
   "outputs": [
    {
     "output_type": "execute_result",
     "data": {
      "text/plain": "             movie                   user_review_permalink  \\\n0  The Dark Knight  https://www.imdb.com/review/rw4392977/   \n1  The Dark Knight  https://www.imdb.com/review/rw5478826/   \n2        Inception  https://www.imdb.com/review/rw2286063/   \n3        Inception  https://www.imdb.com/review/rw4692192/   \n4         Parasite  https://www.imdb.com/review/rw5520184/   \n\n                                                                                                                                                                                                                                                                                                                                                                                                                                                                                                           user_review  \\\n0  First I'd controversially like to point out that this movie wouldn't have gotten as much hype as it did if it wasn't for Heath Ledger's death before the release and the Academy not being afraid to give an Oscar to a corpse.Nevertheless, his performance is easily the best one in the superhero genre and the crafty, well put together New York accent confirms he put a lot of dedication and effort into his methodical role and deserved what he got (an Oscar). This isn't just another Batman movie a...   \n1                                                                                                                                                                                                                  Confidently directed, dark, brooding, and packed with impressive action sequences and a complex story, The Dark Knight includes a career-defining turn from Heath Ledger as well as other Oscar worthy performances, TDK remains not only the best Batman movie, but comic book movie ever created.   \n2  I have to say to make such an impressive trailer and such an uninteresting film, takes some doing.Here you have most of the elements that would make a very good film. You have great special effects, a sci-fi conundrum, beautiful visuals and good sound. Yet the most important part of the film is missing. There is no plot, character or soul to this film. It's like having a beautiful building on the outside with no paint or decoration on the inside.It's an empty shell of a film. There is no ten...   \n3  My 3rd time watching this movie! Yet, it still stunned my mind, kept me enjoyed its every moment and left me with many thoughts afterward.\\nFor someone like me, who've rarely slept without dream, it's so exciting watching how Christopher Nolan had illustrated every single characteristic of dream on the big screen. As it's been done so sophisticatedly, I do believe the rumour that Nolan had spent 10 years to finish the script of Inception. In my opinion, it's been so far the greatest achievem...   \n4              I came to this movie with an open mind, despite the hoo ha around it. Stylistically yep, I can see the hoo haa. The same goes for the acting, once again exceptional . The humour was also done really well. It's just that past the halfway mark it becomes a bit 'meh'. Kind of similar in a way to the film 'us', once it did it's core 'reveal'. It's good that western audiences will watch it and hopefully realise there is a film industry outside of the west..but this film just an ok for me   \n\n  sentiment  \\\n0  negative   \n1  positive   \n2  negative   \n3  positive   \n4  negative   \n\n                                                                                                                                                                                                                                                                                                                                                                                                                                                                                                      proc_user_review  \\\n0  [[this movie, much hype, Heath Ledger, death, the release, Academy, Oscar, a corpse.Nevertheless, performance, one, the superhero, genre, the crafty, New York, accent, a lot, dedication, effort, methodical role, an Oscar], [Batman, movie], [action, stunt, work, dialogue, deep.Batman, definitive self, character, Bale, justice], [Christopher Nolan, justifiable treatment], [the reason, the cast, everyone, characters.With beautiful cinematography, presentation, Gotham, Dark Knight, a film, top, ...   \n1                                                                                                                                                                                                                                                                                                                                                              [[dark, brooding, impressive action, a complex story, Dark Knight, a career-defining turn, Heath Ledger, Oscar, TDK, Batman, movie, comic book, movie]]   \n2  [[an impressive trailer, an uninteresting film, good film], [a sci-fi conundrum, good sound], [important part, the film], [no plot, character, soul, this film], [a beautiful building, no paint, decoration, the inside.It, an empty shell, a film], [no tension], [a corporation, another corporation, the human race.When, a dream, environment, nothing], [], [the way, Hollywood, action, scene, an inch], [], [Watch, learn, Matrix, the camera, a couple, watch, a good film], [anyone, right mind, point...   \n3  [[time, this movie], [mind, every moment], [someone, dream, Christopher Nolan, every single characteristic, dream, the big screen], [the rumour, Nolan, the script, Inception], [opinion, achievement, brilliant writer-director career], [this conclusion, a quick benchmark, Nolan, Memento, first signature, the cinema, history, mind-bending film], [the same level, Inception.The Prestige, Nolan, spirit, Batman Trilogy, superhero, saga, all time, peak, Dark Knight, no doubt, a masterpiece], [every ...   \n4                                                                                                                                                                                                                                                                                                              [[this movie, an open mind, the hoo, ha], [the hoo, haa], [the acting], [The humour], [the halfway, mark, a bit], [Kind, a way, the film, 'us, core 'reveal], [a film, industry, .., this film, an ok]]   \n\n                                                                                                                                                                                                                                                                                                                                                                                                                                                                                                     proc_user_review2  \n0  [[movie, much hype, Heath Ledger, death, release, Academy, Oscar, corpse.Nevertheless, performance, one, superhero genre, crafty, New York accent, lot of dedication, effort, methodical role, Oscar], [Batman movie], [action, explosions, stunt work, dialogue, deep.Batman, definitive self, character, Christian Bale, justice], [Christopher Nolan, complex characters, justifiable treatment], [reason, cast, everyone, characters.With beautiful cinematography, presentation of Gotham, visuals, endeavo...  \n1                                                                                                                                                                                                                                                                                                                                                            [[dark, brooding, action sequences, complex story, Dark Knight, turn from Heath Ledger, other Oscar, worthy performances, TDK, Batman movie, book movie]]  \n2  [[impressive trailer, uninteresting film, elements, good film], [great special effects, sci-fi conundrum, beautiful visuals, good sound], [important part, film], [plot, character or soul, film], [beautiful building, paint or decoration, inside.It, empty shell, film], [tension, characters], [corporation, corporation, human race.When, dream environment, nothing], [explosions, actions sequences], [way, Hollywood, action scene, inch, characters], [many films], [Watch and learn, Matrix, camera, c...  \n3  [[time, movie], [mind, moment, many thoughts], [someone, dream, Christopher Nolan, characteristic of dream, big screen], [rumour, Nolan, years, script of Inception], [opinion, achievement, brilliant writer-director career], [conclusion, benchmark of Nolan, remarkable works, Memento, first signature, cinema history, mind-bending film], [level of Inception.The Prestige, Nolan, spirit, Batman Trilogy, superhero saga, time, peak, Dark Knight, doubt, masterpiece], [time, Heath Ledger, spotlights,...  \n4                                                                                                                                                                                                                                                                                                                                              [[movie, open mind, hoo ha], [hoo haa], [acting], [humour], [halfway mark, bit], [Kind, way, film 'us, core 'reveal], [western audiences, film industry, .., film, ok]]  ",
      "text/html": "<div>\n<style scoped>\n    .dataframe tbody tr th:only-of-type {\n        vertical-align: middle;\n    }\n\n    .dataframe tbody tr th {\n        vertical-align: top;\n    }\n\n    .dataframe thead th {\n        text-align: right;\n    }\n</style>\n<table border=\"1\" class=\"dataframe\">\n  <thead>\n    <tr style=\"text-align: right;\">\n      <th></th>\n      <th>movie</th>\n      <th>user_review_permalink</th>\n      <th>user_review</th>\n      <th>sentiment</th>\n      <th>proc_user_review</th>\n      <th>proc_user_review2</th>\n    </tr>\n  </thead>\n  <tbody>\n    <tr>\n      <th>0</th>\n      <td>The Dark Knight</td>\n      <td>https://www.imdb.com/review/rw4392977/</td>\n      <td>First I'd controversially like to point out that this movie wouldn't have gotten as much hype as it did if it wasn't for Heath Ledger's death before the release and the Academy not being afraid to give an Oscar to a corpse.Nevertheless, his performance is easily the best one in the superhero genre and the crafty, well put together New York accent confirms he put a lot of dedication and effort into his methodical role and deserved what he got (an Oscar). This isn't just another Batman movie a...</td>\n      <td>negative</td>\n      <td>[[this movie, much hype, Heath Ledger, death, the release, Academy, Oscar, a corpse.Nevertheless, performance, one, the superhero, genre, the crafty, New York, accent, a lot, dedication, effort, methodical role, an Oscar], [Batman, movie], [action, stunt, work, dialogue, deep.Batman, definitive self, character, Bale, justice], [Christopher Nolan, justifiable treatment], [the reason, the cast, everyone, characters.With beautiful cinematography, presentation, Gotham, Dark Knight, a film, top, ...</td>\n      <td>[[movie, much hype, Heath Ledger, death, release, Academy, Oscar, corpse.Nevertheless, performance, one, superhero genre, crafty, New York accent, lot of dedication, effort, methodical role, Oscar], [Batman movie], [action, explosions, stunt work, dialogue, deep.Batman, definitive self, character, Christian Bale, justice], [Christopher Nolan, complex characters, justifiable treatment], [reason, cast, everyone, characters.With beautiful cinematography, presentation of Gotham, visuals, endeavo...</td>\n    </tr>\n    <tr>\n      <th>1</th>\n      <td>The Dark Knight</td>\n      <td>https://www.imdb.com/review/rw5478826/</td>\n      <td>Confidently directed, dark, brooding, and packed with impressive action sequences and a complex story, The Dark Knight includes a career-defining turn from Heath Ledger as well as other Oscar worthy performances, TDK remains not only the best Batman movie, but comic book movie ever created.</td>\n      <td>positive</td>\n      <td>[[dark, brooding, impressive action, a complex story, Dark Knight, a career-defining turn, Heath Ledger, Oscar, TDK, Batman, movie, comic book, movie]]</td>\n      <td>[[dark, brooding, action sequences, complex story, Dark Knight, turn from Heath Ledger, other Oscar, worthy performances, TDK, Batman movie, book movie]]</td>\n    </tr>\n    <tr>\n      <th>2</th>\n      <td>Inception</td>\n      <td>https://www.imdb.com/review/rw2286063/</td>\n      <td>I have to say to make such an impressive trailer and such an uninteresting film, takes some doing.Here you have most of the elements that would make a very good film. You have great special effects, a sci-fi conundrum, beautiful visuals and good sound. Yet the most important part of the film is missing. There is no plot, character or soul to this film. It's like having a beautiful building on the outside with no paint or decoration on the inside.It's an empty shell of a film. There is no ten...</td>\n      <td>negative</td>\n      <td>[[an impressive trailer, an uninteresting film, good film], [a sci-fi conundrum, good sound], [important part, the film], [no plot, character, soul, this film], [a beautiful building, no paint, decoration, the inside.It, an empty shell, a film], [no tension], [a corporation, another corporation, the human race.When, a dream, environment, nothing], [], [the way, Hollywood, action, scene, an inch], [], [Watch, learn, Matrix, the camera, a couple, watch, a good film], [anyone, right mind, point...</td>\n      <td>[[impressive trailer, uninteresting film, elements, good film], [great special effects, sci-fi conundrum, beautiful visuals, good sound], [important part, film], [plot, character or soul, film], [beautiful building, paint or decoration, inside.It, empty shell, film], [tension, characters], [corporation, corporation, human race.When, dream environment, nothing], [explosions, actions sequences], [way, Hollywood, action scene, inch, characters], [many films], [Watch and learn, Matrix, camera, c...</td>\n    </tr>\n    <tr>\n      <th>3</th>\n      <td>Inception</td>\n      <td>https://www.imdb.com/review/rw4692192/</td>\n      <td>My 3rd time watching this movie! Yet, it still stunned my mind, kept me enjoyed its every moment and left me with many thoughts afterward.\\nFor someone like me, who've rarely slept without dream, it's so exciting watching how Christopher Nolan had illustrated every single characteristic of dream on the big screen. As it's been done so sophisticatedly, I do believe the rumour that Nolan had spent 10 years to finish the script of Inception. In my opinion, it's been so far the greatest achievem...</td>\n      <td>positive</td>\n      <td>[[time, this movie], [mind, every moment], [someone, dream, Christopher Nolan, every single characteristic, dream, the big screen], [the rumour, Nolan, the script, Inception], [opinion, achievement, brilliant writer-director career], [this conclusion, a quick benchmark, Nolan, Memento, first signature, the cinema, history, mind-bending film], [the same level, Inception.The Prestige, Nolan, spirit, Batman Trilogy, superhero, saga, all time, peak, Dark Knight, no doubt, a masterpiece], [every ...</td>\n      <td>[[time, movie], [mind, moment, many thoughts], [someone, dream, Christopher Nolan, characteristic of dream, big screen], [rumour, Nolan, years, script of Inception], [opinion, achievement, brilliant writer-director career], [conclusion, benchmark of Nolan, remarkable works, Memento, first signature, cinema history, mind-bending film], [level of Inception.The Prestige, Nolan, spirit, Batman Trilogy, superhero saga, time, peak, Dark Knight, doubt, masterpiece], [time, Heath Ledger, spotlights,...</td>\n    </tr>\n    <tr>\n      <th>4</th>\n      <td>Parasite</td>\n      <td>https://www.imdb.com/review/rw5520184/</td>\n      <td>I came to this movie with an open mind, despite the hoo ha around it. Stylistically yep, I can see the hoo haa. The same goes for the acting, once again exceptional . The humour was also done really well. It's just that past the halfway mark it becomes a bit 'meh'. Kind of similar in a way to the film 'us', once it did it's core 'reveal'. It's good that western audiences will watch it and hopefully realise there is a film industry outside of the west..but this film just an ok for me</td>\n      <td>negative</td>\n      <td>[[this movie, an open mind, the hoo, ha], [the hoo, haa], [the acting], [The humour], [the halfway, mark, a bit], [Kind, a way, the film, 'us, core 'reveal], [a film, industry, .., this film, an ok]]</td>\n      <td>[[movie, open mind, hoo ha], [hoo haa], [acting], [humour], [halfway mark, bit], [Kind, way, film 'us, core 'reveal], [western audiences, film industry, .., film, ok]]</td>\n    </tr>\n  </tbody>\n</table>\n</div>"
     },
     "metadata": {},
     "execution_count": 37
    }
   ],
   "source": [
    "grammar = \"\"\"\n",
    "    NP:    {<DT><WP><VBP>*<RB>*<VBN><IN><NN>}\n",
    "           {<NN|NNS|NNP|NNPS><IN>*<NN|NNS|NNP|NNPS>+}\n",
    "           {<JJ>*<NN|NNS|NNP|NNPS><CC>*<NN|NNS|NNP|NNPS>+}\n",
    "           {<JJ>*<NN|NNS|NNP|NNPS>+}\n",
    "    \"\"\"   \n",
    "df['proc_user_review2'] = df['user_review'].apply(processReviewText)\n",
    "df.head()"
   ]
  },
  {
   "cell_type": "code",
   "execution_count": 41,
   "metadata": {},
   "outputs": [],
   "source": [
    "df.to_csv(outfile)"
   ]
  },
  {
   "cell_type": "markdown",
   "metadata": {},
   "source": [
    "3.\tOutput all the chunks in a single list for each review, and submit that output for this assignment. Also submit a brief written summary of what you did (describe your selection of genre, your source of reviews, how many you collected, and by what means)."
   ]
  },
  {
   "cell_type": "markdown",
   "metadata": {},
   "source": [
    "### Analysis Results:\n",
    "\n",
    "For this homework the following tasks were performed:\n",
    "* Using IMDB as the source we pulled 250 movies to gather reviews through a scraping mechanism. This list of movies could change over time.\n",
    "* The movie selection was based off of movies in the thriller genre. This genere provided a good selection of reviews and movies.\n",
    "* For each of the movies we gathered a positive and negative review based on the users provided rating value. From this we were able to pull 500 total reviews to analyze.\n",
    "* Each of the reviews was then run through a NP-chunker with shallow parsing. We utilized the regular expression parser and ran each review through twice with differing levels of regular expression requirements\n",
    "\n",
    "The parser results were interesting:\n",
    "* For the most part both parsers captured NP records reasonably well\n",
    "* Both parsers had issues where users did not correctly break sentences. We see some instances of periods not being followed by spaces which caused the parsers to collapse words. It may have been beneficial to look at a pre processing step that ensured more correctly formed sentences.\n",
    "* The more strict parser did remove determinates from the parsing trees. This may or may not be a good thing depending upon future use cases. In general for this exercise it did not have a large impact on the understandability"
   ]
  }
 ],
 "metadata": {
  "language_info": {
   "codemirror_mode": {
    "name": "ipython",
    "version": 3
   },
   "file_extension": ".py",
   "mimetype": "text/x-python",
   "name": "python",
   "nbconvert_exporter": "python",
   "pygments_lexer": "ipython3",
   "version": "3.8.3-candidate"
  },
  "orig_nbformat": 2,
  "kernelspec": {
   "name": "python38364bit36305f9ad6c54384bcdc334bae9910c8",
   "display_name": "Python 3.8.3 64-bit"
  }
 },
 "nbformat": 4,
 "nbformat_minor": 2
}